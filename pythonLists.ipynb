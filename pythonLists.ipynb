{
  "nbformat": 4,
  "nbformat_minor": 0,
  "metadata": {
    "colab": {
      "provenance": [],
      "authorship_tag": "ABX9TyNKJCo+ByGHi8c47N8CLNwM",
      "include_colab_link": true
    },
    "kernelspec": {
      "name": "python3",
      "display_name": "Python 3"
    },
    "language_info": {
      "name": "python"
    }
  },
  "cells": [
    {
      "cell_type": "markdown",
      "metadata": {
        "id": "view-in-github",
        "colab_type": "text"
      },
      "source": [
        "<a href=\"https://colab.research.google.com/github/samlocal/Python/blob/main/pythonLists.ipynb\" target=\"_parent\"><img src=\"https://colab.research.google.com/assets/colab-badge.svg\" alt=\"Open In Colab\"/></a>"
      ]
    },
    {
      "cell_type": "markdown",
      "source": [
        "# **Lists in PYTHON**"
      ],
      "metadata": {
        "id": "23bZPXdEL1k7"
      }
    },
    {
      "cell_type": "code",
      "execution_count": null,
      "metadata": {
        "id": "n7ho3VOxLxCP"
      },
      "outputs": [],
      "source": [
        "#what are lists\n",
        "#list is a type where you can store multiple items under 1 name more technically lists act as like dynamically arrays which means u can add more items on the fly\n",
        "\n",
        "#list vs arrays\n",
        "#fixed vs dynamic size\n",
        "#hetrogenous\n",
        "#speed of execution pyhton listslow\n",
        "#memeory more list\n",
        "\n"
      ]
    },
    {
      "cell_type": "code",
      "source": [
        "#id is used to et the address\n",
        "a=99\n",
        "print(id(a))"
      ],
      "metadata": {
        "colab": {
          "base_uri": "https://localhost:8080/"
        },
        "id": "dqJfw-z_N12E",
        "outputId": "d31c45fb-8274-4cb0-d6c4-56ffbffcdb27"
      },
      "execution_count": null,
      "outputs": [
        {
          "output_type": "stream",
          "name": "stdout",
          "text": [
            "137275688865072\n"
          ]
        }
      ]
    },
    {
      "cell_type": "code",
      "source": [
        "#how lists are stored in memory\n",
        "\n",
        "#see this in depth\n",
        "#see video one time at start 20:00 minutes"
      ],
      "metadata": {
        "id": "tjvVUrckNPKq"
      },
      "execution_count": null,
      "outputs": []
    },
    {
      "cell_type": "code",
      "source": [
        "item1=100\n",
        "item2=123\n",
        "item3=999\n",
        "\n",
        "print(id(item1))\n",
        "print(id(item2))\n",
        "print(id(item3))\n",
        "list1=[item1,item2,item3]\n",
        "\n",
        "print(id(list1))\n",
        "print(id(list1[0]))\n",
        "print(id(list1[1]))\n",
        "print(id(list1[2]))"
      ],
      "metadata": {
        "colab": {
          "base_uri": "https://localhost:8080/"
        },
        "id": "G1LMFgKpOEW2",
        "outputId": "dd26d9fb-9030-4452-ed7e-852a7def5a9f"
      },
      "execution_count": null,
      "outputs": [
        {
          "output_type": "stream",
          "name": "stdout",
          "text": [
            "137275688865104\n",
            "137275688865840\n",
            "137274369635824\n",
            "137274363404224\n",
            "137275688865104\n",
            "137275688865840\n",
            "137274369635824\n"
          ]
        }
      ]
    },
    {
      "cell_type": "code",
      "source": [
        "#charactericts of lists\n",
        "# 1.ordered\n",
        "l1=[1,2,3]\n",
        "l2=[3,2,1]\n",
        "l3=[1,2,3]\n",
        "print(l1==l2)\n",
        "print(l1==l3)\n",
        "print(id(l1[0]),id(l3[0]))\n",
        "\n",
        "#see this in depth\n",
        "\n",
        "\n",
        "#2. changable/mutable\n",
        "#3.hetrogenous\n",
        "#4.can have duplicates\n",
        "#5.are dynamic\n",
        "#6.can be nested\n",
        "#7.items can be accessed\n",
        "#8.can contain any kind of objects in python\n"
      ],
      "metadata": {
        "colab": {
          "base_uri": "https://localhost:8080/"
        },
        "id": "AyLJiWhhPwWU",
        "outputId": "b7d9bb92-1be4-4006-e654-6d49c53df2ad"
      },
      "execution_count": null,
      "outputs": [
        {
          "output_type": "stream",
          "name": "stdout",
          "text": [
            "False\n",
            "True\n",
            "137275688861936 137275688861936\n"
          ]
        }
      ]
    },
    {
      "cell_type": "code",
      "source": [
        "#create list\n",
        "#Empty list\n",
        "empty_list=[]\n",
        "print(empty_list)\n",
        "\n",
        "#1D list\n",
        "one_d_list=[1,3,'sam',3.44,True]\n",
        "print(one_d_list)\n",
        "\n",
        "#2D list\n",
        "two_d_list=[1,2,3,[4,5,6],[1,2,3]]\n",
        "print(two_d_list)\n",
        "\n",
        "#3D list\n",
        "three_d_list=[\n",
        "    [[1,2,3],[4,5,6]],\n",
        "    [11,22,33],[44,55,66]\n",
        "]\n",
        "print(three_d_list)\n",
        "\n",
        "#using type conversion\n",
        "list1=list('sameer')\n",
        "print(list1)\n",
        "\n",
        "print(type(two_d_list),type(one_d_list),type(three_d_list),type(list1))"
      ],
      "metadata": {
        "colab": {
          "base_uri": "https://localhost:8080/"
        },
        "id": "t1IlZOGWQKHB",
        "outputId": "f73494b5-700b-45d5-f0c5-2ffe001263ac"
      },
      "execution_count": null,
      "outputs": [
        {
          "output_type": "stream",
          "name": "stdout",
          "text": [
            "[]\n",
            "[1, 3, 'sam', 3.44, True]\n",
            "[1, 2, 3, [4, 5, 6], [1, 2, 3]]\n",
            "[[[1, 2, 3], [4, 5, 6]], [11, 22, 33], [44, 55, 66]]\n",
            "['s', 'a', 'm', 'e', 'e', 'r']\n",
            "<class 'list'> <class 'list'> <class 'list'> <class 'list'>\n"
          ]
        }
      ]
    },
    {
      "cell_type": "code",
      "source": [
        "#Accessing items from  a list\n",
        "l=[1,2,3,4,5,6]\n",
        "#Indexing\n",
        "print(l[0],l[4])\n",
        "#negative indexing\n",
        "print(l[-1])\n",
        "\n",
        "\n",
        "list1=[[1,2,3],[4,5,6],[7,8,9]]\n",
        "print(list1[:])\n"
      ],
      "metadata": {
        "colab": {
          "base_uri": "https://localhost:8080/"
        },
        "id": "Bqnvo8-_SmO6",
        "outputId": "8a7bdc43-ee01-4edb-cb40-da16d9a23a26"
      },
      "execution_count": null,
      "outputs": [
        {
          "output_type": "stream",
          "name": "stdout",
          "text": [
            "1 5\n",
            "6\n",
            "[[1, 2, 3], [4, 5, 6]]\n"
          ]
        }
      ]
    },
    {
      "cell_type": "code",
      "source": [
        "#slicing in list\n",
        "l=[1,2,3,4,5]\n",
        "print(l[:])\n",
        "print(l[0::2])"
      ],
      "metadata": {
        "colab": {
          "base_uri": "https://localhost:8080/"
        },
        "id": "Wsk8lXVGYujF",
        "outputId": "791d49a3-aef5-47ad-be2c-e1e9a5b130c6"
      },
      "execution_count": null,
      "outputs": [
        {
          "output_type": "stream",
          "name": "stdout",
          "text": [
            "[1, 2, 3, 4, 5]\n",
            "[1, 3, 5]\n"
          ]
        }
      ]
    },
    {
      "cell_type": "code",
      "source": [
        "#Adding items in list\n",
        "#append\n",
        "list1=[11,2,55,7,8,9,0]\n",
        "list1.append(100)\n",
        "list1.append([-1,-2,-3])\n",
        "print(list1)\n",
        "\n",
        "list1.append('delhi')\n",
        "print(list1)"
      ],
      "metadata": {
        "colab": {
          "base_uri": "https://localhost:8080/"
        },
        "id": "bRUBIzPzY881",
        "outputId": "2628eca7-22e8-471d-96dc-0332c04b839a"
      },
      "execution_count": null,
      "outputs": [
        {
          "output_type": "stream",
          "name": "stdout",
          "text": [
            "[11, 2, 55, 7, 8, 9, 0, 100, [-1, -2, -3]]\n",
            "[11, 2, 55, 7, 8, 9, 0, 100, [-1, -2, -3], 'delhi']\n"
          ]
        }
      ]
    },
    {
      "cell_type": "code",
      "source": [
        "#extend\n",
        "list1=[11,2,55,7,8,9,0]\n",
        "\n",
        "list1.extend([-1,-11,-111,-99])\n",
        "print(list1)\n",
        "list1.extend('delhi')\n",
        "print(list1)"
      ],
      "metadata": {
        "colab": {
          "base_uri": "https://localhost:8080/"
        },
        "id": "JTQPQYSLZdfj",
        "outputId": "b425cd7c-a9f8-4071-ec6d-669d5346faf7"
      },
      "execution_count": null,
      "outputs": [
        {
          "output_type": "stream",
          "name": "stdout",
          "text": [
            "[11, 2, 55, 7, 8, 9, 0, -1, -11, -111, -99]\n",
            "[11, 2, 55, 7, 8, 9, 0, -1, -11, -111, -99, 'd', 'e', 'l', 'h', 'i']\n"
          ]
        }
      ]
    },
    {
      "cell_type": "code",
      "source": [
        "#insert\n",
        "list1=[11,2,55,7,8,9,0]\n",
        "list1.insert(0,-1)\n",
        "print(list1)"
      ],
      "metadata": {
        "colab": {
          "base_uri": "https://localhost:8080/"
        },
        "id": "fy0SlOynZyqD",
        "outputId": "2382583c-5054-406e-b501-d8d92802202a"
      },
      "execution_count": null,
      "outputs": [
        {
          "output_type": "stream",
          "name": "stdout",
          "text": [
            "[-1, 11, 2, 55, 7, 8, 9, 0]\n"
          ]
        }
      ]
    },
    {
      "cell_type": "code",
      "source": [
        "#Editing items in alist\n",
        "list1=[1,2,3,4,5]\n",
        "list1[4]=500\n",
        "list1[1:4]=[200,300,400]\n",
        "print(list1)"
      ],
      "metadata": {
        "colab": {
          "base_uri": "https://localhost:8080/"
        },
        "id": "JmWYnE6Kac2R",
        "outputId": "6f6ba7df-ff88-4f27-f83e-52e1b46aad9e"
      },
      "execution_count": null,
      "outputs": [
        {
          "output_type": "stream",
          "name": "stdout",
          "text": [
            "[1, 200, 300, 400, 999]\n"
          ]
        }
      ]
    },
    {
      "cell_type": "code",
      "source": [
        "#Deleting items in alist\n",
        "#del\n",
        "L=[1,2,3,4,5]\n",
        "print(L)\n",
        "del L[4]\n",
        "print(L)\n",
        "del L\n",
        "print(L)"
      ],
      "metadata": {
        "colab": {
          "base_uri": "https://localhost:8080/",
          "height": 211
        },
        "id": "RUqglJuRaztG",
        "outputId": "c9304802-7695-4893-9e11-e6b70f43dc49"
      },
      "execution_count": null,
      "outputs": [
        {
          "output_type": "stream",
          "name": "stdout",
          "text": [
            "[1, 2, 3, 4, 5]\n",
            "[1, 2, 3, 4]\n"
          ]
        },
        {
          "output_type": "error",
          "ename": "NameError",
          "evalue": "name 'L' is not defined",
          "traceback": [
            "\u001b[0;31m---------------------------------------------------------------------------\u001b[0m",
            "\u001b[0;31mNameError\u001b[0m                                 Traceback (most recent call last)",
            "\u001b[0;32m<ipython-input-29-445b1e0e2c83>\u001b[0m in \u001b[0;36m<cell line: 8>\u001b[0;34m()\u001b[0m\n\u001b[1;32m      6\u001b[0m \u001b[0mprint\u001b[0m\u001b[0;34m(\u001b[0m\u001b[0mL\u001b[0m\u001b[0;34m)\u001b[0m\u001b[0;34m\u001b[0m\u001b[0;34m\u001b[0m\u001b[0m\n\u001b[1;32m      7\u001b[0m \u001b[0;32mdel\u001b[0m \u001b[0mL\u001b[0m\u001b[0;34m\u001b[0m\u001b[0;34m\u001b[0m\u001b[0m\n\u001b[0;32m----> 8\u001b[0;31m \u001b[0mprint\u001b[0m\u001b[0;34m(\u001b[0m\u001b[0mL\u001b[0m\u001b[0;34m)\u001b[0m\u001b[0;34m\u001b[0m\u001b[0;34m\u001b[0m\u001b[0m\n\u001b[0m",
            "\u001b[0;31mNameError\u001b[0m: name 'L' is not defined"
          ]
        }
      ]
    },
    {
      "cell_type": "code",
      "source": [
        "#remove\n",
        "C\n",
        "l.remove(5)\n",
        "print(L)"
      ],
      "metadata": {
        "colab": {
          "base_uri": "https://localhost:8080/"
        },
        "id": "f0upGULrazvt",
        "outputId": "e0d0409d-4810-4af1-cda7-7b0bb2ba892e"
      },
      "execution_count": null,
      "outputs": [
        {
          "output_type": "stream",
          "name": "stdout",
          "text": [
            "[1, 2, 3, 4, 5]\n"
          ]
        }
      ]
    },
    {
      "cell_type": "code",
      "source": [
        "#pop\n",
        "[1, 2, 3, 4, 5]\n",
        "L.pop(0)\n",
        "print(L)\n",
        "\n",
        "L.pop()\n",
        "print(L)"
      ],
      "metadata": {
        "colab": {
          "base_uri": "https://localhost:8080/"
        },
        "id": "8Nmezw_WazyC",
        "outputId": "7f899389-35d0-499c-96c1-e026479c4226"
      },
      "execution_count": null,
      "outputs": [
        {
          "output_type": "stream",
          "name": "stdout",
          "text": [
            "[2, 3, 4, 5]\n",
            "[2, 3, 4]\n"
          ]
        }
      ]
    },
    {
      "cell_type": "code",
      "source": [
        "#clear\n",
        "L=[1,2,3,4,5]\n",
        "L.clear()\n",
        "print(L)"
      ],
      "metadata": {
        "colab": {
          "base_uri": "https://localhost:8080/"
        },
        "id": "8_dWVKUpaz1S",
        "outputId": "311b4c99-a014-4bf8-cbc1-572bc7a41adb"
      },
      "execution_count": null,
      "outputs": [
        {
          "output_type": "stream",
          "name": "stdout",
          "text": [
            "[]\n"
          ]
        }
      ]
    },
    {
      "cell_type": "code",
      "source": [
        "#Operators on lists\n",
        "#Arithmatic\n",
        "#Membership\n",
        "#loop"
      ],
      "metadata": {
        "id": "xXy1Q_vtaz4L"
      },
      "execution_count": null,
      "outputs": []
    },
    {
      "cell_type": "code",
      "source": [
        "#arithmatic\n",
        "L1=[1,2,3,4,5]\n",
        "L2=[6,7,8,9,0]\n",
        "print(L1+L2)\n",
        "print(L1*3)"
      ],
      "metadata": {
        "colab": {
          "base_uri": "https://localhost:8080/"
        },
        "id": "QI9Y5gFob0Yb",
        "outputId": "b8319e5b-4577-46a2-8b0f-4df39a9db198"
      },
      "execution_count": null,
      "outputs": [
        {
          "output_type": "stream",
          "name": "stdout",
          "text": [
            "[1, 2, 3, 4, 5, 6, 7, 8, 9, 0]\n",
            "[1, 2, 3, 4, 5, 1, 2, 3, 4, 5, 1, 2, 3, 4, 5]\n"
          ]
        }
      ]
    },
    {
      "cell_type": "code",
      "source": [
        "#membership operator\n",
        "L1=[1, 2, 3, 4, 5, 6, 7, 8, 9, 0,[99,999]]\n",
        "print(99 in L1)\n",
        "print(8 in L1)\n",
        "print(99 in L1)\n",
        "print(99 not in L1)"
      ],
      "metadata": {
        "colab": {
          "base_uri": "https://localhost:8080/"
        },
        "id": "0_biTs4Zb0bC",
        "outputId": "1148036f-f3a1-4d02-e7bd-df57533d8ac6"
      },
      "execution_count": null,
      "outputs": [
        {
          "output_type": "stream",
          "name": "stdout",
          "text": [
            "False\n",
            "True\n",
            "False\n",
            "True\n"
          ]
        }
      ]
    },
    {
      "cell_type": "code",
      "source": [
        "#loops\n",
        "L1=[1, 2, 3, 4, 5, 6, 7, 8, 9, 0,[99,999]]\n",
        "for i in L1:\n",
        "  print(i)"
      ],
      "metadata": {
        "colab": {
          "base_uri": "https://localhost:8080/"
        },
        "id": "47L3UqUhb0dM",
        "outputId": "b27b3f7a-1a5d-42a5-b007-772f3da643d3"
      },
      "execution_count": null,
      "outputs": [
        {
          "output_type": "stream",
          "name": "stdout",
          "text": [
            "1\n",
            "2\n",
            "3\n",
            "4\n",
            "5\n",
            "6\n",
            "7\n",
            "8\n",
            "9\n",
            "0\n",
            "[99, 999]\n"
          ]
        }
      ]
    },
    {
      "cell_type": "code",
      "source": [
        "L1=[[1,2,3],[4,5,6],[7,8,9]]\n",
        "for i in L1:\n",
        "  print(i,end='->')\n",
        "  for j in i:\n",
        "    print(j, end=' ')\n",
        "  print(end='\\n')"
      ],
      "metadata": {
        "colab": {
          "base_uri": "https://localhost:8080/"
        },
        "id": "e7evkV7ib0gQ",
        "outputId": "5baee5fa-eb4d-424b-ff76-717968172206"
      },
      "execution_count": null,
      "outputs": [
        {
          "output_type": "stream",
          "name": "stdout",
          "text": [
            "[1, 2, 3]->1 2 3 \n",
            "[4, 5, 6]->4 5 6 \n",
            "[7, 8, 9]->7 8 9 \n"
          ]
        }
      ]
    },
    {
      "cell_type": "code",
      "source": [],
      "metadata": {
        "id": "2-vEgu_GdM33"
      },
      "execution_count": null,
      "outputs": []
    },
    {
      "cell_type": "code",
      "source": [
        "#List Functions\n",
        "#len/min/max/sorted\n",
        "L1=[1,77,-1,9,23,0]\n",
        "print(len(L1))\n",
        "print(min(L1))\n",
        "print(max(L1))\n",
        "print(sorted(L1))\n",
        "print(sorted(L1,reverse=True))\n"
      ],
      "metadata": {
        "colab": {
          "base_uri": "https://localhost:8080/"
        },
        "id": "W4otSVyZdQWu",
        "outputId": "f3b2a742-0df4-4d31-a204-254274682bdc"
      },
      "execution_count": null,
      "outputs": [
        {
          "output_type": "stream",
          "name": "stdout",
          "text": [
            "6\n",
            "-1\n",
            "77\n",
            "[-1, 0, 1, 9, 23, 77]\n",
            "[77, 23, 9, 1, 0, -1]\n"
          ]
        }
      ]
    },
    {
      "cell_type": "code",
      "source": [
        "#count\n",
        "L1=[77, 23, 9, 1, 0, -1,-1,-1,0]\n",
        "print(L1.count(-1))\n",
        "print(L1.count(999))"
      ],
      "metadata": {
        "colab": {
          "base_uri": "https://localhost:8080/"
        },
        "id": "1wU86ivrdqX-",
        "outputId": "7a74ca42-4742-4482-c5ca-ac8b97ebc3b5"
      },
      "execution_count": null,
      "outputs": [
        {
          "output_type": "stream",
          "name": "stdout",
          "text": [
            "3\n",
            "0\n"
          ]
        }
      ]
    },
    {
      "cell_type": "code",
      "source": [
        "#index\n",
        "L1=[77, 23, 9, 1, 0, -1,-1,-1,0]\n",
        "print(L1.index(-1))\n"
      ],
      "metadata": {
        "colab": {
          "base_uri": "https://localhost:8080/"
        },
        "id": "XwDiZN9ydqct",
        "outputId": "545be484-a518-45fc-d541-bb672c36a971"
      },
      "execution_count": null,
      "outputs": [
        {
          "output_type": "stream",
          "name": "stdout",
          "text": [
            "5\n"
          ]
        }
      ]
    },
    {
      "cell_type": "code",
      "source": [
        "#reverse\n",
        "L1=[77, 23, 9, 1, 0, -1,-1,-1,0]\n",
        "#reverse permanently reverse the list\n",
        "L1.reverse()\n",
        "print(L1)"
      ],
      "metadata": {
        "colab": {
          "base_uri": "https://localhost:8080/"
        },
        "id": "YHd0ujRSdqfn",
        "outputId": "6bb29590-2409-4ea5-ea31-2e452432ce78"
      },
      "execution_count": null,
      "outputs": [
        {
          "output_type": "stream",
          "name": "stdout",
          "text": [
            "[0, -1, -1, -1, 0, 1, 9, 23, 77]\n"
          ]
        }
      ]
    },
    {
      "cell_type": "code",
      "source": [
        "#sort\n",
        "L1=[22,5,9,0,1,-1,99,0]\n",
        "sorted(L1) #not permanent\n",
        "print(L1)\n",
        "L1.sort() #permanenet\n",
        "print(L1)"
      ],
      "metadata": {
        "colab": {
          "base_uri": "https://localhost:8080/"
        },
        "id": "PNpVpMTsdqh7",
        "outputId": "47a19cb9-4b68-4d70-d0cc-448e034e607e"
      },
      "execution_count": null,
      "outputs": [
        {
          "output_type": "stream",
          "name": "stdout",
          "text": [
            "[22, 5, 9, 0, 1, -1, 99, 0]\n",
            "[-1, 0, 0, 1, 5, 9, 22, 99]\n"
          ]
        }
      ]
    },
    {
      "cell_type": "code",
      "source": [
        "#copy\n",
        "L1=[1,2,3,4,5]\n",
        "print(id(L1))\n",
        "print(L1)\n",
        "\n",
        "L2=L1.copy()\n",
        "print(id(L2))\n",
        "print(L2)"
      ],
      "metadata": {
        "colab": {
          "base_uri": "https://localhost:8080/"
        },
        "id": "x-5i0infdqku",
        "outputId": "cfbeee1c-7515-47d0-fe23-41ddaaa9739f"
      },
      "execution_count": null,
      "outputs": [
        {
          "output_type": "stream",
          "name": "stdout",
          "text": [
            "137274364562944\n",
            "[1, 2, 3, 4, 5]\n",
            "137274366791296\n",
            "[1, 2, 3, 4, 5]\n"
          ]
        }
      ]
    },
    {
      "cell_type": "code",
      "source": [
        "#list comprehension\n",
        "#list comprehension provides a consive way of creating list\n",
        "#newlist=[expression for item in iterable if conditon == True]\n",
        "#Advantages of list comprehension\n",
        "#1.more time and space efficient than loops\n",
        "#2.require fewer lines of code\n",
        "#3.transforms iterative atatemenrs into a formula"
      ],
      "metadata": {
        "id": "TCCOxiN6dqnU"
      },
      "execution_count": null,
      "outputs": []
    },
    {
      "cell_type": "code",
      "source": [
        "#add 1 to 10 items to a list\n",
        "L=[]\n",
        "for i in range(1,11):\n",
        "  L.append(i)\n",
        "print(L)\n",
        "\n",
        "#simpler way\n",
        "L=[i for i in range(1,11)]\n",
        "print(L)"
      ],
      "metadata": {
        "id": "kbSMdafhdqqp",
        "colab": {
          "base_uri": "https://localhost:8080/"
        },
        "outputId": "e78cb803-3056-433a-d289-ee1aff4d71aa"
      },
      "execution_count": 2,
      "outputs": [
        {
          "output_type": "stream",
          "name": "stdout",
          "text": [
            "[1, 2, 3, 4, 5, 6, 7, 8, 9, 10]\n",
            "[1, 2, 3, 4, 5, 6, 7, 8, 9, 10]\n"
          ]
        }
      ]
    },
    {
      "cell_type": "code",
      "source": [
        "#Scalar Multiplication on a vector\n",
        "L1=[1,2,3]\n",
        "s=-3\n",
        "#we want [-3,-6,-9]\n",
        "\n",
        "#Traditional way\n",
        "new_list=[]\n",
        "for i in L1:\n",
        "  new_list.append(i*s)\n",
        "print(new_list)\n",
        "\n",
        "#lidt comprehension\n",
        "new_list=[i*s for i in L1]\n",
        "print(new_list)"
      ],
      "metadata": {
        "colab": {
          "base_uri": "https://localhost:8080/"
        },
        "id": "kbeMxi4kJfoM",
        "outputId": "589d861b-dd72-489b-d9b8-2f32d858760e"
      },
      "execution_count": 4,
      "outputs": [
        {
          "output_type": "stream",
          "name": "stdout",
          "text": [
            "[-3, -6, -9]\n",
            "[-3, -6, -9]\n"
          ]
        }
      ]
    },
    {
      "cell_type": "code",
      "source": [
        "#squares of list\n",
        "L1=[9,8,7,6,5]\n",
        "#we want =[81,64,49,36,25]\n",
        "\n",
        "#traditional way\n",
        "new_list=[]\n",
        "for i in L1:\n",
        "  new_list.append(i*i)\n",
        "print(new_list)\n",
        "\n",
        "#list comprehension\n",
        "new_list=[i*i for i in L1]\n",
        "print(new_list)\n"
      ],
      "metadata": {
        "colab": {
          "base_uri": "https://localhost:8080/"
        },
        "id": "UVnj2L-HJfrS",
        "outputId": "3f08f522-b3ab-4ab8-ada2-847f1ccb5d39"
      },
      "execution_count": 5,
      "outputs": [
        {
          "output_type": "stream",
          "name": "stdout",
          "text": [
            "[81, 64, 49, 36, 25]\n",
            "[81, 64, 49, 36, 25]\n"
          ]
        }
      ]
    },
    {
      "cell_type": "code",
      "source": [
        "#all the umbers divisible by 5 in the range of 1 to 50\n",
        "five_list=[i for i in range(1,51) if(i%5==0)]\n",
        "print(five_list)"
      ],
      "metadata": {
        "colab": {
          "base_uri": "https://localhost:8080/"
        },
        "id": "IqURzd5mJfwD",
        "outputId": "77525a69-4cfb-4759-83bf-9f68ff51e758"
      },
      "execution_count": 6,
      "outputs": [
        {
          "output_type": "stream",
          "name": "stdout",
          "text": [
            "[5, 10, 15, 20, 25, 30, 35, 40, 45, 50]\n"
          ]
        }
      ]
    },
    {
      "cell_type": "code",
      "source": [
        "#find languages which starts with letter p\n",
        "languages=['python','sython','php','pearl','c/c++']\n",
        "p_lang=[lang for lang in languages if(lang.startswith('p'))]\n",
        "print(p_lang)"
      ],
      "metadata": {
        "colab": {
          "base_uri": "https://localhost:8080/"
        },
        "id": "exPaDm4pJfzK",
        "outputId": "d53a03d9-5e8d-4fde-f393-bd3fdd4ccdf0"
      },
      "execution_count": 8,
      "outputs": [
        {
          "output_type": "stream",
          "name": "stdout",
          "text": [
            "['python', 'php', 'pearl']\n"
          ]
        }
      ]
    },
    {
      "cell_type": "code",
      "source": [
        "#nested if with lst comprehension\n",
        "basket=['apple','guava','chaeey','banana']\n",
        "my_fruits=['apple','kiwi','grapes','banana']\n",
        "\n",
        "#add new list from my_fruits and items if the fruit exists in basket and also starts with 'a'\n",
        "new_list=[fruit for fruit in my_fruits if(fruit in basket) and (fruit.startswith('a'))]\n",
        "print(new_list)\n",
        "\n",
        "#another way\n",
        "new_list=[fruit for fruit in my_fruits if fruit in basket if fruit.startswith('a')]\n",
        "print(new_list)"
      ],
      "metadata": {
        "colab": {
          "base_uri": "https://localhost:8080/"
        },
        "id": "znMYb9PnJf2D",
        "outputId": "578a9d1e-8485-4920-b06b-275f227fc21b"
      },
      "execution_count": 10,
      "outputs": [
        {
          "output_type": "stream",
          "name": "stdout",
          "text": [
            "['apple']\n",
            "['apple']\n"
          ]
        }
      ]
    },
    {
      "cell_type": "code",
      "source": [
        "#print a (3,3) matrix using list comprehension ->nested list comprehension\n",
        "matrix=[[i for i in range(1,4)] for j in range(1,4)]\n",
        "print(matrix)\n",
        "\n",
        "#here expression itself is list comprehension"
      ],
      "metadata": {
        "colab": {
          "base_uri": "https://localhost:8080/"
        },
        "id": "95B9-_P0Jf43",
        "outputId": "0764e736-9e37-4e88-955c-4f709476b11c"
      },
      "execution_count": 12,
      "outputs": [
        {
          "output_type": "stream",
          "name": "stdout",
          "text": [
            "[[1, 2, 3], [1, 2, 3], [1, 2, 3]]\n"
          ]
        }
      ]
    },
    {
      "cell_type": "code",
      "source": [
        "#cartesian product -> lists comprehenion on 2 lists together\n",
        "L1=[1,2,3,4]\n",
        "L2=[5,6,7,8]\n",
        "#output-> [5,6,7,8,10,12,14,16,15,18,21,24,20,24,28,32]\n",
        "\n",
        "#normal way\n",
        "new_list=[]\n",
        "for i in L1:\n",
        "  for j in L2:\n",
        "    new_list.append(i*j)\n",
        "print(new_list)\n",
        "\n",
        "#list comprehension\n",
        "new_list=[i*j for i in L1 for j in L2]\n",
        "print(new_list)"
      ],
      "metadata": {
        "colab": {
          "base_uri": "https://localhost:8080/"
        },
        "id": "mmyQzMEmJf8M",
        "outputId": "26c7fd1f-0bfc-4a59-8252-d811ed79efe9"
      },
      "execution_count": 14,
      "outputs": [
        {
          "output_type": "stream",
          "name": "stdout",
          "text": [
            "[5, 6, 7, 8, 10, 12, 14, 16, 15, 18, 21, 24, 20, 24, 28, 32]\n",
            "[5, 6, 7, 8, 10, 12, 14, 16, 15, 18, 21, 24, 20, 24, 28, 32]\n"
          ]
        }
      ]
    },
    {
      "cell_type": "code",
      "source": [
        "#2 ways to traverse a list\n",
        "#1.item wise\n",
        "L1=[99,88,77,66,55]\n",
        "for i in L1:\n",
        "  print(i)\n",
        "#2.index wise\n",
        "L1=[99,88,77,66,55]\n",
        "for i in range(0,len(L1)):\n",
        "  print('Index is ',i,' value is ',L1[i])"
      ],
      "metadata": {
        "colab": {
          "base_uri": "https://localhost:8080/"
        },
        "id": "XicTRvWSSLo7",
        "outputId": "87583f04-84ea-465d-a784-e56386e0a601"
      },
      "execution_count": 15,
      "outputs": [
        {
          "output_type": "stream",
          "name": "stdout",
          "text": [
            "99\n",
            "88\n",
            "77\n",
            "66\n",
            "55\n",
            "Index is  0  value is  99\n",
            "Index is  1  value is  88\n",
            "Index is  2  value is  77\n",
            "Index is  3  value is  66\n",
            "Index is  4  value is  55\n"
          ]
        }
      ]
    },
    {
      "cell_type": "markdown",
      "source": [
        "zip() function"
      ],
      "metadata": {
        "id": "fh5P0-4RTSV6"
      }
    },
    {
      "cell_type": "code",
      "source": [
        "#see theory\n",
        "L1=[1,2,3,4]\n",
        "L2=[-1,-2,-3,-4]\n",
        "\n",
        "print(list(zip(L1,L2)))\n",
        "\n",
        "L3=[i+j for i,j in zip(L1,L2)]\n",
        "print(L3)"
      ],
      "metadata": {
        "colab": {
          "base_uri": "https://localhost:8080/"
        },
        "id": "PkTV7GksSLrv",
        "outputId": "b7fd09a1-3b09-4ab0-dc5a-aa678a054235"
      },
      "execution_count": 16,
      "outputs": [
        {
          "output_type": "stream",
          "name": "stdout",
          "text": [
            "[(1, -1), (2, -2), (3, -3), (4, -4)]\n",
            "[0, 0, 0, 0]\n"
          ]
        }
      ]
    },
    {
      "cell_type": "code",
      "source": [
        "#List can contain any kind of objects in python\n",
        "L=[1,99,'sam',print,type,input]\n",
        "print(L)"
      ],
      "metadata": {
        "colab": {
          "base_uri": "https://localhost:8080/"
        },
        "id": "3GoKwConSLuz",
        "outputId": "21909640-7713-403d-d653-cbd17209b0fd"
      },
      "execution_count": 17,
      "outputs": [
        {
          "output_type": "stream",
          "name": "stdout",
          "text": [
            "[1, 99, 'sam', <built-in function print>, <class 'type'>]\n"
          ]
        }
      ]
    },
    {
      "cell_type": "code",
      "source": [
        "#disadvantages of lists\n",
        "\n",
        "#1.risky usage\n",
        "a=[1,2,3]\n",
        "b=a\n",
        "b.append(4)\n",
        "print(a,b)"
      ],
      "metadata": {
        "colab": {
          "base_uri": "https://localhost:8080/"
        },
        "id": "m6MCw11NSLxx",
        "outputId": "ae2f448b-720b-4aca-d840-62e60f5a1ff0"
      },
      "execution_count": 18,
      "outputs": [
        {
          "output_type": "stream",
          "name": "stdout",
          "text": [
            "[1, 2, 3, 4] [1, 2, 3, 4]\n"
          ]
        }
      ]
    }
  ]
}