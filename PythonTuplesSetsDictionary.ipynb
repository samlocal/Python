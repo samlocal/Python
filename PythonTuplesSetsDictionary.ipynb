{
  "nbformat": 4,
  "nbformat_minor": 0,
  "metadata": {
    "colab": {
      "provenance": [],
      "authorship_tag": "ABX9TyMqTu+t3MJVGTln2Oy/hGYk",
      "include_colab_link": true
    },
    "kernelspec": {
      "name": "python3",
      "display_name": "Python 3"
    },
    "language_info": {
      "name": "python"
    }
  },
  "cells": [
    {
      "cell_type": "markdown",
      "metadata": {
        "id": "view-in-github",
        "colab_type": "text"
      },
      "source": [
        "<a href=\"https://colab.research.google.com/github/samlocal/Python/blob/main/PythonTuplesSetsDictionary.ipynb\" target=\"_parent\"><img src=\"https://colab.research.google.com/assets/colab-badge.svg\" alt=\"Open In Colab\"/></a>"
      ]
    },
    {
      "cell_type": "markdown",
      "source": [
        " A tuple in Python is similar to a list. The difference between the two is that we cannot change the elements of a tuple once it is assigned whereas we can change the elements of a list.\n",
        "\n",
        "In short, a tuple is an immutable list. A tuple can not be changed in any way once it is created.\n",
        "\n",
        "Characterstics\n",
        "\n",
        "Ordered\n",
        "\n",
        "1.   List item\n",
        "2.   List item\n",
        "\n",
        "\n",
        "Unchangeble\n",
        "\n",
        "*   List item\n",
        "*   List item\n",
        "\n",
        "\n",
        "\n",
        "*   List item\n",
        "*   List item\n",
        "\n",
        "\n",
        "Allows duplicate"
      ],
      "metadata": {
        "id": "xDMgN9eaWtE1"
      }
    },
    {
      "cell_type": "code",
      "execution_count": 2,
      "metadata": {
        "colab": {
          "base_uri": "https://localhost:8080/"
        },
        "id": "GZWTfWciWlV9",
        "outputId": "4a4a8ddc-cd24-46bb-b74f-47e278bcce13"
      },
      "outputs": [
        {
          "output_type": "stream",
          "name": "stdout",
          "text": [
            "<class 'tuple'>\n",
            "<class 'int'>\n",
            "<class 'tuple'>\n",
            "('h', 'e', 'l', 'l', 'o')\n"
          ]
        }
      ],
      "source": [
        "#creating tples\n",
        "t1=()\n",
        "print(type(t1))\n",
        "\n",
        "#creating tuple with single item\n",
        "t2=(2)\n",
        "print(type(t2))\n",
        "t2=(2,)\n",
        "print(type(t2))\n",
        "#homogenous\n",
        "t4=(1,2,3,4,5)\n",
        "#hetrogenous\n",
        "t3=(1,2,'ji',True)\n",
        "#nested tple\n",
        "nt=(1,2,3,(8,9,0))\n",
        "#using type conversion\n",
        "t5=tuple('hello')\n",
        "print(t5)"
      ]
    },
    {
      "cell_type": "code",
      "source": [
        "#Accessing Items\n",
        "#1.Indexing\n",
        "#2.Slicing\n",
        "# we know"
      ],
      "metadata": {
        "id": "rSs5j8b7YHG1"
      },
      "execution_count": null,
      "outputs": []
    },
    {
      "cell_type": "code",
      "source": [
        "#Editing Items\n",
        "#tuples are immutable"
      ],
      "metadata": {
        "id": "NF-l-bfyYHJu"
      },
      "execution_count": null,
      "outputs": []
    },
    {
      "cell_type": "code",
      "source": [
        "#Adding Items\n",
        "#not possible - immutable"
      ],
      "metadata": {
        "id": "hvAPH2PcYHNd"
      },
      "execution_count": null,
      "outputs": []
    },
    {
      "cell_type": "code",
      "source": [
        "#Deleting Items\n",
        "#we are able to delete entire tuple\n",
        "#Deleting some portion is not possible\n",
        "tup=(1,2,3,4)\n",
        "print(tup)\n",
        "del tup\n",
        "print(tup)"
      ],
      "metadata": {
        "colab": {
          "base_uri": "https://localhost:8080/",
          "height": 193
        },
        "id": "hbLESgoHYHQx",
        "outputId": "28c07215-cade-4b3e-fcea-c3701acb0f11"
      },
      "execution_count": 3,
      "outputs": [
        {
          "output_type": "stream",
          "name": "stdout",
          "text": [
            "(1, 2, 3, 4)\n"
          ]
        },
        {
          "output_type": "error",
          "ename": "NameError",
          "evalue": "name 'tup' is not defined",
          "traceback": [
            "\u001b[0;31m---------------------------------------------------------------------------\u001b[0m",
            "\u001b[0;31mNameError\u001b[0m                                 Traceback (most recent call last)",
            "\u001b[0;32m<ipython-input-3-3b39d5c06b84>\u001b[0m in \u001b[0;36m<cell line: 7>\u001b[0;34m()\u001b[0m\n\u001b[1;32m      5\u001b[0m \u001b[0mprint\u001b[0m\u001b[0;34m(\u001b[0m\u001b[0mtup\u001b[0m\u001b[0;34m)\u001b[0m\u001b[0;34m\u001b[0m\u001b[0;34m\u001b[0m\u001b[0m\n\u001b[1;32m      6\u001b[0m \u001b[0;32mdel\u001b[0m \u001b[0mtup\u001b[0m\u001b[0;34m\u001b[0m\u001b[0;34m\u001b[0m\u001b[0m\n\u001b[0;32m----> 7\u001b[0;31m \u001b[0mprint\u001b[0m\u001b[0;34m(\u001b[0m\u001b[0mtup\u001b[0m\u001b[0;34m)\u001b[0m\u001b[0;34m\u001b[0m\u001b[0;34m\u001b[0m\u001b[0m\n\u001b[0m",
            "\u001b[0;31mNameError\u001b[0m: name 'tup' is not defined"
          ]
        }
      ]
    },
    {
      "cell_type": "code",
      "source": [
        "#operations on tuples\n",
        "# + and *\n",
        "t1=(1,2,3,4,5)\n",
        "t2=(0,9,8,7,6)\n",
        "print(t1+t2)\n",
        "print((t1+t2)*2)\n",
        "#membership operators\n",
        "print(5 in t1)\n",
        "print(5 not in t1)\n",
        "#Iteration\n",
        "for i in t1:\n",
        "  print(i)"
      ],
      "metadata": {
        "colab": {
          "base_uri": "https://localhost:8080/"
        },
        "id": "laHZTxcXZIdx",
        "outputId": "e9551721-8c75-4dac-807f-a41eb2bc1719"
      },
      "execution_count": 7,
      "outputs": [
        {
          "output_type": "stream",
          "name": "stdout",
          "text": [
            "(1, 2, 3, 4, 5, 0, 9, 8, 7, 6)\n",
            "(1, 2, 3, 4, 5, 0, 9, 8, 7, 6, 1, 2, 3, 4, 5, 0, 9, 8, 7, 6)\n",
            "True\n",
            "False\n",
            "1\n",
            "2\n",
            "3\n",
            "4\n",
            "5\n"
          ]
        }
      ]
    },
    {
      "cell_type": "code",
      "source": [
        "#len/sum/min/max/sorted\n",
        "tup=(99,0,1,-1,0,7,-5,33)\n",
        "print(len(tup))\n",
        "print(sum(tup))\n",
        "print(min(tup))\n",
        "print(max(tup))\n",
        "print(sorted(tup))\n",
        "print(sorted(tup,reverse=True))"
      ],
      "metadata": {
        "colab": {
          "base_uri": "https://localhost:8080/"
        },
        "id": "18LVGWSOZIgb",
        "outputId": "6540f4aa-6b82-4b9e-e19a-82f60669b2ac"
      },
      "execution_count": 8,
      "outputs": [
        {
          "output_type": "stream",
          "name": "stdout",
          "text": [
            "8\n",
            "134\n",
            "-5\n",
            "99\n",
            "[-5, -1, 0, 0, 1, 7, 33, 99]\n"
          ]
        }
      ]
    },
    {
      "cell_type": "code",
      "source": [
        "#count\n",
        "#index"
      ],
      "metadata": {
        "id": "CdK3F7pLZIjH"
      },
      "execution_count": null,
      "outputs": []
    },
    {
      "cell_type": "code",
      "source": [
        "#difference between lists and tuples\n",
        "#syntax\n",
        "#Mutability\n",
        "#Speed\n",
        "#Memory\n",
        "#Built in  functionality\n",
        "#Error prone\n",
        "#usability"
      ],
      "metadata": {
        "id": "fihL2nGKZImD"
      },
      "execution_count": null,
      "outputs": []
    },
    {
      "cell_type": "code",
      "source": [
        "#tuple unpacking\n",
        "a,b,c=(1,2,3)\n",
        "print(a,b,c)"
      ],
      "metadata": {
        "id": "KByF8AruZIoU"
      },
      "execution_count": null,
      "outputs": []
    },
    {
      "cell_type": "code",
      "source": [
        "a=1\n",
        "b=2\n",
        "b,a=a,b\n",
        "print(a,b)"
      ],
      "metadata": {
        "colab": {
          "base_uri": "https://localhost:8080/"
        },
        "id": "OE3hDBd2ZIrC",
        "outputId": "44cc77c4-c593-4c04-c21c-9fb860f39afd"
      },
      "execution_count": 9,
      "outputs": [
        {
          "output_type": "stream",
          "name": "stdout",
          "text": [
            "2 1\n"
          ]
        }
      ]
    },
    {
      "cell_type": "code",
      "source": [
        "a,b,*others=(1,22,3,4,5,6)\n",
        "print(a)\n",
        "print(b)\n",
        "print(others)"
      ],
      "metadata": {
        "colab": {
          "base_uri": "https://localhost:8080/"
        },
        "id": "qw_swjhnZIt6",
        "outputId": "cfda77ab-66a5-47c0-de4c-d61749541f3e"
      },
      "execution_count": 10,
      "outputs": [
        {
          "output_type": "stream",
          "name": "stdout",
          "text": [
            "1\n",
            "22\n",
            "[3, 4, 5, 6]\n"
          ]
        }
      ]
    },
    {
      "cell_type": "code",
      "source": [
        "#zip in tuples\n",
        "t1=(1,2,3,4,5)\n",
        "t2=(1,2,3,4,5)\n",
        "print(list(zip(t1,t2)))\n",
        "print(tuple(zip(t1,t2)))"
      ],
      "metadata": {
        "colab": {
          "base_uri": "https://localhost:8080/"
        },
        "id": "72gmmYCAZIwh",
        "outputId": "2a3ae846-b1a5-4309-eb1a-6d1064714837"
      },
      "execution_count": 11,
      "outputs": [
        {
          "output_type": "stream",
          "name": "stdout",
          "text": [
            "[(1, 1), (2, 2), (3, 3), (4, 4), (5, 5)]\n",
            "((1, 1), (2, 2), (3, 3), (4, 4), (5, 5))\n"
          ]
        }
      ]
    },
    {
      "cell_type": "code",
      "source": [
        "#set\n",
        "#Empty set\n",
        "s1=set()\n",
        "s2={}\n",
        "print(type(s1),type(s2))\n",
        "\n",
        "#1D and 2D\n",
        "one_d_set={1,2,3,4}\n",
        "#two_d_set={1,2,3.{9,9}} not possible\n",
        "\n",
        "#Homo and hetro\n",
        "hetro={1,'ko','lll',0}\n",
        "homo={1,2,3,4}\n",
        "\n",
        "#Using type conversion\n",
        "s4=set([1,2,3])\n",
        "print(s4)\n",
        "\n",
        "#set cant have mutable items\n",
        "ss={1,2,3,[9,0]}\n",
        "print(ss)"
      ],
      "metadata": {
        "colab": {
          "base_uri": "https://localhost:8080/",
          "height": 228
        },
        "id": "APn2tyExZIy1",
        "outputId": "e889d187-d33f-430f-fe74-7eae31eeee7f"
      },
      "execution_count": 2,
      "outputs": [
        {
          "output_type": "stream",
          "name": "stdout",
          "text": [
            "<class 'set'> <class 'dict'>\n",
            "{1, 2, 3}\n"
          ]
        },
        {
          "output_type": "error",
          "ename": "TypeError",
          "evalue": "unhashable type: 'list'",
          "traceback": [
            "\u001b[0;31m---------------------------------------------------------------------------\u001b[0m",
            "\u001b[0;31mTypeError\u001b[0m                                 Traceback (most recent call last)",
            "\u001b[0;32m<ipython-input-2-29720e64f8cb>\u001b[0m in \u001b[0;36m<cell line: 20>\u001b[0;34m()\u001b[0m\n\u001b[1;32m     18\u001b[0m \u001b[0;34m\u001b[0m\u001b[0m\n\u001b[1;32m     19\u001b[0m \u001b[0;31m#set cant have mutable items\u001b[0m\u001b[0;34m\u001b[0m\u001b[0;34m\u001b[0m\u001b[0m\n\u001b[0;32m---> 20\u001b[0;31m \u001b[0mss\u001b[0m\u001b[0;34m=\u001b[0m\u001b[0;34m{\u001b[0m\u001b[0;36m1\u001b[0m\u001b[0;34m,\u001b[0m\u001b[0;36m2\u001b[0m\u001b[0;34m,\u001b[0m\u001b[0;36m3\u001b[0m\u001b[0;34m,\u001b[0m\u001b[0;34m[\u001b[0m\u001b[0;36m9\u001b[0m\u001b[0;34m,\u001b[0m\u001b[0;36m0\u001b[0m\u001b[0;34m]\u001b[0m\u001b[0;34m}\u001b[0m\u001b[0;34m\u001b[0m\u001b[0;34m\u001b[0m\u001b[0m\n\u001b[0m\u001b[1;32m     21\u001b[0m \u001b[0mprint\u001b[0m\u001b[0;34m(\u001b[0m\u001b[0mss\u001b[0m\u001b[0;34m)\u001b[0m\u001b[0;34m\u001b[0m\u001b[0;34m\u001b[0m\u001b[0m\n",
            "\u001b[0;31mTypeError\u001b[0m: unhashable type: 'list'"
          ]
        }
      ]
    },
    {
      "cell_type": "code",
      "source": [
        "s1={1,2,3}\n",
        "s2={3,2,1}\n",
        "print(s1==s2)"
      ],
      "metadata": {
        "colab": {
          "base_uri": "https://localhost:8080/"
        },
        "id": "oKjc45s4ZI19",
        "outputId": "83cc7e51-9fe1-4b1f-d7bc-1116fc97aaed"
      },
      "execution_count": 3,
      "outputs": [
        {
          "output_type": "stream",
          "name": "stdout",
          "text": [
            "True\n"
          ]
        }
      ]
    },
    {
      "cell_type": "code",
      "source": [
        "#Accessing items\n",
        "s={1,2,3}\n",
        "print(s[0])"
      ],
      "metadata": {
        "colab": {
          "base_uri": "https://localhost:8080/",
          "height": 176
        },
        "id": "9NClKmITGsnf",
        "outputId": "2f051fc2-514b-45b5-ae9c-30112e1fa364"
      },
      "execution_count": 4,
      "outputs": [
        {
          "output_type": "error",
          "ename": "TypeError",
          "evalue": "'set' object is not subscriptable",
          "traceback": [
            "\u001b[0;31m---------------------------------------------------------------------------\u001b[0m",
            "\u001b[0;31mTypeError\u001b[0m                                 Traceback (most recent call last)",
            "\u001b[0;32m<ipython-input-4-1cd9fec61570>\u001b[0m in \u001b[0;36m<cell line: 3>\u001b[0;34m()\u001b[0m\n\u001b[1;32m      1\u001b[0m \u001b[0;31m#Accessing items\u001b[0m\u001b[0;34m\u001b[0m\u001b[0;34m\u001b[0m\u001b[0m\n\u001b[1;32m      2\u001b[0m \u001b[0ms\u001b[0m\u001b[0;34m=\u001b[0m\u001b[0;34m{\u001b[0m\u001b[0;36m1\u001b[0m\u001b[0;34m,\u001b[0m\u001b[0;36m2\u001b[0m\u001b[0;34m,\u001b[0m\u001b[0;36m3\u001b[0m\u001b[0;34m}\u001b[0m\u001b[0;34m\u001b[0m\u001b[0;34m\u001b[0m\u001b[0m\n\u001b[0;32m----> 3\u001b[0;31m \u001b[0mprint\u001b[0m\u001b[0;34m(\u001b[0m\u001b[0ms\u001b[0m\u001b[0;34m[\u001b[0m\u001b[0;36m0\u001b[0m\u001b[0;34m]\u001b[0m\u001b[0;34m)\u001b[0m\u001b[0;34m\u001b[0m\u001b[0;34m\u001b[0m\u001b[0m\n\u001b[0m",
            "\u001b[0;31mTypeError\u001b[0m: 'set' object is not subscriptable"
          ]
        }
      ]
    },
    {
      "cell_type": "code",
      "source": [
        "#3Editing Items\n",
        "s={1,2,3}\n",
        "s[0]=99"
      ],
      "metadata": {
        "colab": {
          "base_uri": "https://localhost:8080/",
          "height": 176
        },
        "id": "Myt9_7qXG5Mn",
        "outputId": "94abea73-fcdb-4e3b-afbb-2d8f15800d9d"
      },
      "execution_count": 5,
      "outputs": [
        {
          "output_type": "error",
          "ename": "TypeError",
          "evalue": "'set' object does not support item assignment",
          "traceback": [
            "\u001b[0;31m---------------------------------------------------------------------------\u001b[0m",
            "\u001b[0;31mTypeError\u001b[0m                                 Traceback (most recent call last)",
            "\u001b[0;32m<ipython-input-5-376f6542d003>\u001b[0m in \u001b[0;36m<cell line: 3>\u001b[0;34m()\u001b[0m\n\u001b[1;32m      1\u001b[0m \u001b[0;31m#3Editing Items\u001b[0m\u001b[0;34m\u001b[0m\u001b[0;34m\u001b[0m\u001b[0m\n\u001b[1;32m      2\u001b[0m \u001b[0ms\u001b[0m\u001b[0;34m=\u001b[0m\u001b[0;34m{\u001b[0m\u001b[0;36m1\u001b[0m\u001b[0;34m,\u001b[0m\u001b[0;36m2\u001b[0m\u001b[0;34m,\u001b[0m\u001b[0;36m3\u001b[0m\u001b[0;34m}\u001b[0m\u001b[0;34m\u001b[0m\u001b[0;34m\u001b[0m\u001b[0m\n\u001b[0;32m----> 3\u001b[0;31m \u001b[0ms\u001b[0m\u001b[0;34m[\u001b[0m\u001b[0;36m0\u001b[0m\u001b[0;34m]\u001b[0m\u001b[0;34m=\u001b[0m\u001b[0;36m99\u001b[0m\u001b[0;34m\u001b[0m\u001b[0;34m\u001b[0m\u001b[0m\n\u001b[0m",
            "\u001b[0;31mTypeError\u001b[0m: 'set' object does not support item assignment"
          ]
        }
      ]
    },
    {
      "cell_type": "code",
      "source": [
        "#Adding Items\n",
        "s={1,2,3}\n",
        "#add\n",
        "s.add(66)\n",
        "print(s)\n",
        "\n",
        "#update\n",
        "s.update([0,-9,-7])\n",
        "print(s)"
      ],
      "metadata": {
        "colab": {
          "base_uri": "https://localhost:8080/"
        },
        "id": "h-J_x9QaG5PU",
        "outputId": "d12a601c-4b10-44a6-8d4e-aae1f66ce719"
      },
      "execution_count": 6,
      "outputs": [
        {
          "output_type": "stream",
          "name": "stdout",
          "text": [
            "{1, 2, 3, 66}\n",
            "{0, 1, 2, 3, 66, -9, -7}\n"
          ]
        }
      ]
    },
    {
      "cell_type": "code",
      "source": [
        "#Deleting Items\n",
        "s={1,2,3}\n",
        "print(s)\n",
        "del s\n",
        "print(s)"
      ],
      "metadata": {
        "colab": {
          "base_uri": "https://localhost:8080/",
          "height": 193
        },
        "id": "SQg2qxoaG5SK",
        "outputId": "1be9426c-1ddc-41b2-ced6-720c4e5bddaf"
      },
      "execution_count": 7,
      "outputs": [
        {
          "output_type": "stream",
          "name": "stdout",
          "text": [
            "{1, 2, 3}\n"
          ]
        },
        {
          "output_type": "error",
          "ename": "NameError",
          "evalue": "name 's' is not defined",
          "traceback": [
            "\u001b[0;31m---------------------------------------------------------------------------\u001b[0m",
            "\u001b[0;31mNameError\u001b[0m                                 Traceback (most recent call last)",
            "\u001b[0;32m<ipython-input-7-48fdd8815430>\u001b[0m in \u001b[0;36m<cell line: 5>\u001b[0;34m()\u001b[0m\n\u001b[1;32m      3\u001b[0m \u001b[0mprint\u001b[0m\u001b[0;34m(\u001b[0m\u001b[0ms\u001b[0m\u001b[0;34m)\u001b[0m\u001b[0;34m\u001b[0m\u001b[0;34m\u001b[0m\u001b[0m\n\u001b[1;32m      4\u001b[0m \u001b[0;32mdel\u001b[0m \u001b[0ms\u001b[0m\u001b[0;34m\u001b[0m\u001b[0;34m\u001b[0m\u001b[0m\n\u001b[0;32m----> 5\u001b[0;31m \u001b[0mprint\u001b[0m\u001b[0;34m(\u001b[0m\u001b[0ms\u001b[0m\u001b[0;34m)\u001b[0m\u001b[0;34m\u001b[0m\u001b[0;34m\u001b[0m\u001b[0m\n\u001b[0m",
            "\u001b[0;31mNameError\u001b[0m: name 's' is not defined"
          ]
        }
      ]
    },
    {
      "cell_type": "code",
      "source": [
        "s={0, 1, 2, 3, 66, -9, -7}\n",
        "#discard\n",
        "s.discard(66)\n",
        "print(s)"
      ],
      "metadata": {
        "colab": {
          "base_uri": "https://localhost:8080/"
        },
        "id": "m8aIf_NMG5Ux",
        "outputId": "45c00fae-bc4b-4699-83f3-03724d0ac001"
      },
      "execution_count": 8,
      "outputs": [
        {
          "output_type": "stream",
          "name": "stdout",
          "text": [
            "{0, 1, 2, 3, -9, -7}\n"
          ]
        }
      ]
    },
    {
      "cell_type": "code",
      "source": [
        "#remove\n",
        "s={0, 1, 2, 3, 66, -9, -7}\n",
        "s.remove(0)\n",
        "print(s)"
      ],
      "metadata": {
        "colab": {
          "base_uri": "https://localhost:8080/"
        },
        "id": "tUpX5j5AG5XU",
        "outputId": "83a482f0-0183-44da-ff5f-e3c1b3aa06ed"
      },
      "execution_count": 9,
      "outputs": [
        {
          "output_type": "stream",
          "name": "stdout",
          "text": [
            "{1, 2, 3, 66, -9, -7}\n"
          ]
        }
      ]
    },
    {
      "cell_type": "code",
      "source": [
        "#pop\n",
        "s={0, 1, 2, 3, 66, -9, -7}\n",
        "s.pop()\n",
        "print(s)"
      ],
      "metadata": {
        "colab": {
          "base_uri": "https://localhost:8080/"
        },
        "id": "VIo1u2PeG5aN",
        "outputId": "1e2070fd-e7d6-4220-ce91-4b58804e503e"
      },
      "execution_count": 10,
      "outputs": [
        {
          "output_type": "stream",
          "name": "stdout",
          "text": [
            "{1, 2, 3, 66, -9, -7}\n"
          ]
        }
      ]
    },
    {
      "cell_type": "code",
      "source": [
        "#clear\n",
        "s={0, 1, 2, 3, 66, -9, -7}\n",
        "s.clear()\n",
        "print(s)"
      ],
      "metadata": {
        "colab": {
          "base_uri": "https://localhost:8080/"
        },
        "id": "Y3A94yQ_G5cp",
        "outputId": "23bdefad-0565-41cc-bf22-3cd2b7ba20f8"
      },
      "execution_count": 11,
      "outputs": [
        {
          "output_type": "stream",
          "name": "stdout",
          "text": [
            "set()\n"
          ]
        }
      ]
    },
    {
      "cell_type": "code",
      "source": [
        "#set operations\n",
        "set1={1,2,3,4,5}\n",
        "set2={4,5,6,7,8}\n",
        "#union\n",
        "print(set1|set2)\n",
        "#intersection\n",
        "print(set1&set2)\n",
        "#difference\n",
        "print(set1-set2)\n",
        "print(set2-set1)\n",
        "#symmetric difference\n",
        "print(set1^set2)\n",
        "print(set2^set1)"
      ],
      "metadata": {
        "colab": {
          "base_uri": "https://localhost:8080/"
        },
        "id": "0N4hJZEqG5fQ",
        "outputId": "cfe85bac-d7b9-48b8-84ee-5f2dcc86e606"
      },
      "execution_count": 17,
      "outputs": [
        {
          "output_type": "stream",
          "name": "stdout",
          "text": [
            "{1, 2, 3, 4, 5, 6, 7, 8}\n",
            "{4, 5}\n",
            "{1, 2, 3}\n",
            "{8, 6, 7}\n",
            "{1, 2, 3, 6, 7, 8}\n",
            "{1, 2, 3, 6, 7, 8}\n"
          ]
        }
      ]
    },
    {
      "cell_type": "code",
      "source": [
        "#Membership operators\n",
        "set1={1,2,3,4,5}\n",
        "print(1 in set1)\n",
        "print(100 not in set1)\n",
        "\n",
        "#loops\n",
        "for i in set('sameer'):\n",
        "  print(i)"
      ],
      "metadata": {
        "colab": {
          "base_uri": "https://localhost:8080/"
        },
        "id": "RTDAsdOmG5hz",
        "outputId": "7dc6b4a3-d5b8-42bb-c9c5-d4ee581e8104"
      },
      "execution_count": 18,
      "outputs": [
        {
          "output_type": "stream",
          "name": "stdout",
          "text": [
            "True\n",
            "True\n",
            "m\n",
            "r\n",
            "s\n",
            "e\n",
            "a\n"
          ]
        }
      ]
    },
    {
      "cell_type": "code",
      "source": [
        "#len/sum/min/max/sorted"
      ],
      "metadata": {
        "id": "21nJxbuEJOm1"
      },
      "execution_count": null,
      "outputs": []
    },
    {
      "cell_type": "code",
      "source": [
        "#union\n",
        "set1={1,2,3,4,5}\n",
        "set2={4,5,6,7,8}\n",
        "\n",
        "print(set1.union(set2))"
      ],
      "metadata": {
        "colab": {
          "base_uri": "https://localhost:8080/"
        },
        "id": "J_WflQ83JWAU",
        "outputId": "70a51efa-df28-40bf-d9bc-11322bcc161d"
      },
      "execution_count": 20,
      "outputs": [
        {
          "output_type": "stream",
          "name": "stdout",
          "text": [
            "{1, 2, 3, 4, 5, 6, 7, 8}\n"
          ]
        }
      ]
    },
    {
      "cell_type": "code",
      "source": [
        "#update\n",
        "set1={1,2,3,4,5}\n",
        "set2={4,5,6,7,8}\n",
        "\n",
        "set1.update(set2)\n",
        "print(set1)\n",
        "print(set2)"
      ],
      "metadata": {
        "colab": {
          "base_uri": "https://localhost:8080/"
        },
        "id": "GWYMrOGzJWDq",
        "outputId": "79f5587c-4a6d-455e-a057-e5467f9f5d58"
      },
      "execution_count": 21,
      "outputs": [
        {
          "output_type": "stream",
          "name": "stdout",
          "text": [
            "{1, 2, 3, 4, 5, 6, 7, 8}\n",
            "{4, 5, 6, 7, 8}\n"
          ]
        }
      ]
    },
    {
      "cell_type": "code",
      "source": [
        "#intersection\n",
        "set1={1,2,3,4,5}\n",
        "set2={4,5,6,7,8}\n",
        "\n",
        "print(set1.intersection(set2))"
      ],
      "metadata": {
        "colab": {
          "base_uri": "https://localhost:8080/"
        },
        "id": "ig_G7eq_JWGi",
        "outputId": "28ed441b-694b-41aa-ca48-4cb8b8827ecf"
      },
      "execution_count": 22,
      "outputs": [
        {
          "output_type": "stream",
          "name": "stdout",
          "text": [
            "{4, 5}\n"
          ]
        }
      ]
    },
    {
      "cell_type": "code",
      "source": [
        "#intersection update\n",
        "set1={1,2,3,4,5}\n",
        "set2={4,5,6,7,8}\n",
        "\n",
        "set1.intersection_update(set2)\n",
        "print(set1)\n",
        "print(set2)"
      ],
      "metadata": {
        "colab": {
          "base_uri": "https://localhost:8080/"
        },
        "id": "RCCssbuqJWJT",
        "outputId": "ab3ed779-863d-48ac-e023-e2c6bd1a6962"
      },
      "execution_count": 24,
      "outputs": [
        {
          "output_type": "stream",
          "name": "stdout",
          "text": [
            "{4, 5}\n",
            "{4, 5, 6, 7, 8}\n"
          ]
        }
      ]
    },
    {
      "cell_type": "code",
      "source": [
        "#difference\n",
        "set1={1,2,3,4,5}\n",
        "set2={4,5,6,7,8}\n",
        "\n",
        "print(set1.difference(set2))"
      ],
      "metadata": {
        "colab": {
          "base_uri": "https://localhost:8080/"
        },
        "id": "UYKsXeCDJWML",
        "outputId": "6565fa7f-af29-4d5c-de0e-97e0b3e7b9f0"
      },
      "execution_count": 25,
      "outputs": [
        {
          "output_type": "stream",
          "name": "stdout",
          "text": [
            "{1, 2, 3}\n"
          ]
        }
      ]
    },
    {
      "cell_type": "code",
      "source": [
        "#difference_update\n",
        "set1={1,2,3,4,5}\n",
        "set2={4,5,6,7,8}\n",
        "\n",
        "set1.intersection_update(set2)\n",
        "print(set1)\n",
        "print(set2)\n"
      ],
      "metadata": {
        "colab": {
          "base_uri": "https://localhost:8080/"
        },
        "id": "ns2yEUcSJWPH",
        "outputId": "46be2711-52bd-4c52-dd44-010bdfcd73c0"
      },
      "execution_count": 26,
      "outputs": [
        {
          "output_type": "stream",
          "name": "stdout",
          "text": [
            "{4, 5}\n",
            "{4, 5, 6, 7, 8}\n"
          ]
        }
      ]
    },
    {
      "cell_type": "code",
      "source": [
        "#symmerry\n",
        "set1={1,2,3,4,5}\n",
        "set2={4,5,6,7,8}\n",
        "\n",
        "print(set1.symmetric_difference(set2))"
      ],
      "metadata": {
        "colab": {
          "base_uri": "https://localhost:8080/"
        },
        "id": "saIE7-SUJWR1",
        "outputId": "388c45d2-8f1b-496e-f9cc-a54f4d3c0cfd"
      },
      "execution_count": 28,
      "outputs": [
        {
          "output_type": "stream",
          "name": "stdout",
          "text": [
            "{1, 2, 3, 6, 7, 8}\n"
          ]
        }
      ]
    },
    {
      "cell_type": "code",
      "source": [
        "#symmetric_update\n",
        "set1={1,2,3,4,5}\n",
        "set2={4,5,6,7,8}\n",
        "\n",
        "set1.symmetric_difference_update(set2)\n",
        "print(set1)\n",
        "print(set2)"
      ],
      "metadata": {
        "colab": {
          "base_uri": "https://localhost:8080/"
        },
        "id": "k5IKr_DyJWUy",
        "outputId": "fb7ae0af-e1ac-4c54-a3ba-b283fe1c5e1d"
      },
      "execution_count": 30,
      "outputs": [
        {
          "output_type": "stream",
          "name": "stdout",
          "text": [
            "{1, 2, 3, 6, 7, 8}\n",
            "{4, 5, 6, 7, 8}\n"
          ]
        }
      ]
    },
    {
      "cell_type": "code",
      "source": [
        "#isdisjoint\n",
        "set1={1,2,3,4,5}\n",
        "set2={4,5,6,7,8}\n",
        "print(set1.isdisjoint(set2))"
      ],
      "metadata": {
        "colab": {
          "base_uri": "https://localhost:8080/"
        },
        "id": "KSGSVibgJWYS",
        "outputId": "521b8626-046a-4dc6-ae35-3552dbdcf9ce"
      },
      "execution_count": 31,
      "outputs": [
        {
          "output_type": "stream",
          "name": "stdout",
          "text": [
            "False\n"
          ]
        }
      ]
    },
    {
      "cell_type": "code",
      "source": [
        "#issubset\n",
        "set1={1,2,3,4,5}\n",
        "set2={4,5}\n",
        "print(set2.issubset(set1))"
      ],
      "metadata": {
        "colab": {
          "base_uri": "https://localhost:8080/"
        },
        "id": "RNWShfxiLD5x",
        "outputId": "a843b30a-4258-470c-dee7-d97242f03455"
      },
      "execution_count": 35,
      "outputs": [
        {
          "output_type": "stream",
          "name": "stdout",
          "text": [
            "True\n"
          ]
        }
      ]
    },
    {
      "cell_type": "code",
      "source": [
        "#issubset\n",
        "set1={1,2,3,4,5}\n",
        "set2={4,5}\n",
        "print(set1.issuperset(set2))"
      ],
      "metadata": {
        "colab": {
          "base_uri": "https://localhost:8080/"
        },
        "id": "ksZ6eUZwLEHq",
        "outputId": "060d9bc5-9c5e-417f-f146-fabb41469631"
      },
      "execution_count": 36,
      "outputs": [
        {
          "output_type": "stream",
          "name": "stdout",
          "text": [
            "True\n"
          ]
        }
      ]
    },
    {
      "cell_type": "code",
      "source": [
        "#copy\n"
      ],
      "metadata": {
        "id": "T1yHCHwdLEK_"
      },
      "execution_count": null,
      "outputs": []
    },
    {
      "cell_type": "code",
      "source": [
        "#frozenset\n",
        "fs=frozenset([1,2,3])\n",
        "fs"
      ],
      "metadata": {
        "colab": {
          "base_uri": "https://localhost:8080/"
        },
        "id": "6ZgL1MCoLEOe",
        "outputId": "287a6e28-f1e5-4901-f21d-add73faf3e7b"
      },
      "execution_count": 37,
      "outputs": [
        {
          "output_type": "execute_result",
          "data": {
            "text/plain": [
              "frozenset({1, 2, 3})"
            ]
          },
          "metadata": {},
          "execution_count": 37
        }
      ]
    },
    {
      "cell_type": "code",
      "source": [
        "#functions of frozen set"
      ],
      "metadata": {
        "id": "TJl_wsG1LETu"
      },
      "execution_count": null,
      "outputs": []
    },
    {
      "cell_type": "code",
      "source": [
        "#2D frozenset\n",
        "fs1=frozenset([1,2,3,4,frozenset([2,3])])\n",
        "fs1"
      ],
      "metadata": {
        "colab": {
          "base_uri": "https://localhost:8080/"
        },
        "id": "sCZfZ3tMLEWz",
        "outputId": "ec7c173b-39dc-4ebc-9d74-721fd2f312fb"
      },
      "execution_count": 38,
      "outputs": [
        {
          "output_type": "execute_result",
          "data": {
            "text/plain": [
              "frozenset({1, 2, 3, 4, frozenset({2, 3})})"
            ]
          },
          "metadata": {},
          "execution_count": 38
        }
      ]
    },
    {
      "cell_type": "code",
      "source": [
        "#set comprehension\n",
        "{i for i in range(1,11)}"
      ],
      "metadata": {
        "colab": {
          "base_uri": "https://localhost:8080/"
        },
        "id": "YQPiHhxhLEZq",
        "outputId": "4ee3f29c-7ebf-465f-da17-b65226f208e2"
      },
      "execution_count": 39,
      "outputs": [
        {
          "output_type": "execute_result",
          "data": {
            "text/plain": [
              "{1, 2, 3, 4, 5, 6, 7, 8, 9, 10}"
            ]
          },
          "metadata": {},
          "execution_count": 39
        }
      ]
    },
    {
      "cell_type": "code",
      "source": [
        "#Dictionary\n",
        "#mutable - indexing has no meaning - keys cant be duplicated - keys cant be modified"
      ],
      "metadata": {
        "id": "YPnhU-y0LEc3"
      },
      "execution_count": null,
      "outputs": []
    },
    {
      "cell_type": "code",
      "source": [
        "#Empty dictionart\n",
        "ed={}\n",
        "#1D dict\n",
        "d1={'name':'sam','place':'Nandyal','region':'Rayalaseema'}\n",
        "#with mixed keys\n",
        "d2={'name':'sameer',518501:'Nandyal',(1,2,3):'set_data_structure'}\n",
        "#2D dict\n",
        "d3={'name':'sam','clg':'GMRIT','subjects':{\n",
        "    'maths':15,\n",
        "    'science':-99,\n",
        "    'telugu':99\n",
        "}}\n",
        "#Using sequence and dict function\n",
        "d4=dict([(1,'one'),(2,'two'),(3,'three')])\n",
        "\n"
      ],
      "metadata": {
        "colab": {
          "base_uri": "https://localhost:8080/"
        },
        "id": "Cyy0qSeSLEf-",
        "outputId": "a9fc8576-2e87-40f0-c59f-09bbe12a3903"
      },
      "execution_count": 43,
      "outputs": [
        {
          "output_type": "stream",
          "name": "stdout",
          "text": [
            "{1: 'one', 2: 'two', 3: 'three'}\n"
          ]
        }
      ]
    },
    {
      "cell_type": "code",
      "source": [
        "#using zip function for making dictionary\n",
        "\n",
        "list1=[1,2,3,4,5]\n",
        "list2=['one','two','three','four','five']\n",
        "\n",
        "dict_from_zip=dict(zip(list1,list2))\n",
        "print(dict_from_zip)"
      ],
      "metadata": {
        "colab": {
          "base_uri": "https://localhost:8080/"
        },
        "id": "sp2HezI4LEi2",
        "outputId": "bbb6a0b1-f248-4037-972a-ab5571a69e10"
      },
      "execution_count": 46,
      "outputs": [
        {
          "output_type": "stream",
          "name": "stdout",
          "text": [
            "{1: 'one', 2: 'two', 3: 'three', 4: 'four', 5: 'five'}\n"
          ]
        }
      ]
    },
    {
      "cell_type": "code",
      "source": [
        "#Accessing Items\n",
        "dict1={1: 'one', 2: 'two', 3: 'three', 4: 'four', 5: 'five'}\n",
        "print(dict1[1])\n",
        "print(dict1.get(1))"
      ],
      "metadata": {
        "colab": {
          "base_uri": "https://localhost:8080/"
        },
        "id": "qvU30MalLEmY",
        "outputId": "c3d71ea3-b561-4c1b-fd54-0f6a35a9e82b"
      },
      "execution_count": 48,
      "outputs": [
        {
          "output_type": "stream",
          "name": "stdout",
          "text": [
            "one\n",
            "one\n"
          ]
        }
      ]
    },
    {
      "cell_type": "code",
      "source": [
        "#Adding key-value pair\n",
        "dict1={1: 'one', 2: 'two', 3: 'three', 4: 'four', 5: 'five'}\n",
        "dict1[6]='six'\n",
        "print(dict1)"
      ],
      "metadata": {
        "colab": {
          "base_uri": "https://localhost:8080/"
        },
        "id": "IvExeEYILEpU",
        "outputId": "8d8bb6cf-b96c-465e-b3ba-7466dd372a9b"
      },
      "execution_count": 49,
      "outputs": [
        {
          "output_type": "stream",
          "name": "stdout",
          "text": [
            "{1: 'one', 2: 'two', 3: 'three', 4: 'four', 5: 'five', 6: 'six'}\n"
          ]
        }
      ]
    },
    {
      "cell_type": "code",
      "source": [
        "#rremoving key value pair\n",
        "dict1={1: 'one', 2: 'two', 3: 'three', 4: 'four', 5: 'five', 6: 'six'}\n",
        "#pop\n",
        "dict1.pop(6)\n",
        "print(dict1)\n",
        "#popitem\n",
        "dict1.popitem()\n",
        "print(dict1)\n",
        "#del\n",
        "del dict1[4]\n",
        "print(dict1)\n",
        "#clear\n",
        "dict1.clear()\n",
        "print(dict1)"
      ],
      "metadata": {
        "colab": {
          "base_uri": "https://localhost:8080/"
        },
        "id": "hAzuU52ZLEsq",
        "outputId": "91f89fc1-45b0-41ab-b00a-358070a9b2c3"
      },
      "execution_count": 54,
      "outputs": [
        {
          "output_type": "stream",
          "name": "stdout",
          "text": [
            "{1: 'one', 2: 'two', 3: 'three', 4: 'four', 5: 'five'}\n",
            "{1: 'one', 2: 'two', 3: 'three', 4: 'four'}\n",
            "{1: 'one', 2: 'two', 3: 'three'}\n",
            "{}\n"
          ]
        }
      ]
    },
    {
      "cell_type": "code",
      "source": [
        "#Editinh key value pair\n",
        "dict1={1: 'one', 2: 'two', 3: 'three', 4: 'four', 5: 'five', 6: 'six'}\n",
        "dict1[1]='okati'\n",
        "print(dict1)"
      ],
      "metadata": {
        "colab": {
          "base_uri": "https://localhost:8080/"
        },
        "id": "jj8LYUK5QMPE",
        "outputId": "78d89ff2-c2c5-47f8-bea9-61ad92410ff3"
      },
      "execution_count": 55,
      "outputs": [
        {
          "output_type": "stream",
          "name": "stdout",
          "text": [
            "{1: 'okati', 2: 'two', 3: 'three', 4: 'four', 5: 'five', 6: 'six'}\n"
          ]
        }
      ]
    },
    {
      "cell_type": "code",
      "source": [
        "#Dictionary operators\n",
        "#membership\n",
        "dict1={1: 'one', 2: 'two', 3: 'three', 4: 'four', 5: 'five', 6: 'six'}\n",
        "print(1 in dict1)\n",
        "print('one' in dict1)"
      ],
      "metadata": {
        "colab": {
          "base_uri": "https://localhost:8080/"
        },
        "id": "HhPgNGqJQ5uw",
        "outputId": "ddb26af3-7799-4b7c-89cf-9f5c60a12f67"
      },
      "execution_count": 56,
      "outputs": [
        {
          "output_type": "stream",
          "name": "stdout",
          "text": [
            "True\n",
            "False\n"
          ]
        }
      ]
    },
    {
      "cell_type": "code",
      "source": [
        "#iteratin\n",
        "dict1={1: 'one', 2: 'two', 3: 'three', 4: 'four', 5: 'five', 6: 'six'}\n",
        "for i in dict1:\n",
        "  print(i,\" -> \",dict1.get(i))"
      ],
      "metadata": {
        "colab": {
          "base_uri": "https://localhost:8080/"
        },
        "id": "W8PHWKiKQ6vk",
        "outputId": "42b6f8f0-ca29-4357-f202-c5e08d0ec4be"
      },
      "execution_count": 57,
      "outputs": [
        {
          "output_type": "stream",
          "name": "stdout",
          "text": [
            "1  ->  one\n",
            "2  ->  two\n",
            "3  ->  three\n",
            "4  ->  four\n",
            "5  ->  five\n",
            "6  ->  six\n"
          ]
        }
      ]
    },
    {
      "cell_type": "code",
      "source": [
        "#len/sorted\n"
      ],
      "metadata": {
        "id": "mkuJm0nJQ6zB"
      },
      "execution_count": null,
      "outputs": []
    },
    {
      "cell_type": "code",
      "source": [
        "#items/keys/values\n",
        "dict1={1: 'one', 2: 'two', 3: 'three', 4: 'four', 5: 'five', 6: 'six'}\n",
        "print(dict1.items())\n",
        "print(dict1.keys())\n",
        "print(dict1.values())"
      ],
      "metadata": {
        "colab": {
          "base_uri": "https://localhost:8080/"
        },
        "id": "f035SdwzQ62h",
        "outputId": "14c60b1f-1e62-4262-fde7-4664e108276a"
      },
      "execution_count": 59,
      "outputs": [
        {
          "output_type": "stream",
          "name": "stdout",
          "text": [
            "dict_items([(1, 'one'), (2, 'two'), (3, 'three'), (4, 'four'), (5, 'five'), (6, 'six')])\n",
            "dict_keys([1, 2, 3, 4, 5, 6])\n",
            "dict_values(['one', 'two', 'three', 'four', 'five', 'six'])\n"
          ]
        }
      ]
    },
    {
      "cell_type": "code",
      "source": [
        "#update\n",
        "d1={1:'one',2:'two',3:'three'}\n",
        "d2={1:'okati',2:'rendu',3:'mudu',4:'naalugu'}\n",
        "d1.update(d2)\n",
        "print(d1)"
      ],
      "metadata": {
        "colab": {
          "base_uri": "https://localhost:8080/"
        },
        "id": "J-CtZ_7_Q66G",
        "outputId": "dd340825-3f39-4d09-aa34-79e59fe5e2d5"
      },
      "execution_count": 60,
      "outputs": [
        {
          "output_type": "stream",
          "name": "stdout",
          "text": [
            "{1: 'okati', 2: 'rendu', 3: 'mudu', 4: 'nalugu'}\n"
          ]
        }
      ]
    },
    {
      "cell_type": "code",
      "source": [
        "#Dictionary comprehension\n",
        "# {key:value for vars in iterable}"
      ],
      "metadata": {
        "id": "iLxirkilQ69Q"
      },
      "execution_count": null,
      "outputs": []
    },
    {
      "cell_type": "code",
      "source": [
        "#print 1 to 10 numbers and their squares\n",
        "d={i:i*i for i in range(1,11)}\n",
        "print(d)"
      ],
      "metadata": {
        "colab": {
          "base_uri": "https://localhost:8080/"
        },
        "id": "WuXbCw0_Q7Ao",
        "outputId": "a2c8599d-2546-4b95-bdd3-2c9da2c58840"
      },
      "execution_count": 61,
      "outputs": [
        {
          "output_type": "stream",
          "name": "stdout",
          "text": [
            "{1: 1, 2: 4, 3: 9, 4: 16, 5: 25, 6: 36, 7: 49, 8: 64, 9: 81, 10: 100}\n"
          ]
        }
      ]
    },
    {
      "cell_type": "code",
      "source": [
        "#Using Extinct dict\n",
        "distances={'Nandyal':100,'Mahanandi':15,'Atmakur':99}\n",
        "#cities <50 km\n",
        "\n",
        "d={i:distances.get(i) for i in distances if distances.get(i)<=50}\n",
        "print(d)\n",
        "\n",
        "d={i for i in distances if distances.get(i)<=50}\n",
        "print(d)"
      ],
      "metadata": {
        "colab": {
          "base_uri": "https://localhost:8080/"
        },
        "id": "tYDxA68KQ7EO",
        "outputId": "c0aeb1a6-acb5-4732-8c3c-2ffc5eaefe71"
      },
      "execution_count": 64,
      "outputs": [
        {
          "output_type": "stream",
          "name": "stdout",
          "text": [
            "{'Mahanandi': 15}\n",
            "{'Mahanandi'}\n"
          ]
        }
      ]
    },
    {
      "cell_type": "code",
      "source": [
        "#nested comprehension\n",
        "#print tables of numbers from 2 to 4\n",
        "\n",
        "{ i: {j:i*j for j in range(1,11)} for i in range(2,5)}"
      ],
      "metadata": {
        "colab": {
          "base_uri": "https://localhost:8080/"
        },
        "id": "NtzpMPWrQ7Hq",
        "outputId": "146c0563-54d6-4ea8-fa91-805edce017ae"
      },
      "execution_count": 67,
      "outputs": [
        {
          "output_type": "execute_result",
          "data": {
            "text/plain": [
              "{2: {1: 2, 2: 4, 3: 6, 4: 8, 5: 10, 6: 12, 7: 14, 8: 16, 9: 18, 10: 20},\n",
              " 3: {1: 3, 2: 6, 3: 9, 4: 12, 5: 15, 6: 18, 7: 21, 8: 24, 9: 27, 10: 30},\n",
              " 4: {1: 4, 2: 8, 3: 12, 4: 16, 5: 20, 6: 24, 7: 28, 8: 32, 9: 36, 10: 40}}"
            ]
          },
          "metadata": {},
          "execution_count": 67
        }
      ]
    },
    {
      "cell_type": "code",
      "source": [],
      "metadata": {
        "id": "M82PPCj9Q7K9"
      },
      "execution_count": null,
      "outputs": []
    },
    {
      "cell_type": "code",
      "source": [],
      "metadata": {
        "id": "1fhwu4pRQ7N0"
      },
      "execution_count": null,
      "outputs": []
    },
    {
      "cell_type": "code",
      "source": [],
      "metadata": {
        "id": "bDUSXrYgQ7Q_"
      },
      "execution_count": null,
      "outputs": []
    },
    {
      "cell_type": "code",
      "source": [],
      "metadata": {
        "id": "5FdxRyKZQ7Uv"
      },
      "execution_count": null,
      "outputs": []
    },
    {
      "cell_type": "code",
      "source": [],
      "metadata": {
        "id": "o_5ZywxnQ7YI"
      },
      "execution_count": null,
      "outputs": []
    },
    {
      "cell_type": "code",
      "source": [],
      "metadata": {
        "id": "Ptk0Np9YQ7bj"
      },
      "execution_count": null,
      "outputs": []
    },
    {
      "cell_type": "code",
      "source": [],
      "metadata": {
        "id": "IdcK1EOpQ7ew"
      },
      "execution_count": null,
      "outputs": []
    }
  ]
}