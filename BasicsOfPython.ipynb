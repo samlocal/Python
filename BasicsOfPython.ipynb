{
  "nbformat": 4,
  "nbformat_minor": 0,
  "metadata": {
    "colab": {
      "provenance": [],
      "authorship_tag": "ABX9TyOZPfclkus1okGoxHgF2mH7",
      "include_colab_link": true
    },
    "kernelspec": {
      "name": "python3",
      "display_name": "Python 3"
    },
    "language_info": {
      "name": "python"
    }
  },
  "cells": [
    {
      "cell_type": "markdown",
      "metadata": {
        "id": "view-in-github",
        "colab_type": "text"
      },
      "source": [
        "<a href=\"https://colab.research.google.com/github/samlocal/Python/blob/main/BasicsOfPython.ipynb\" target=\"_parent\"><img src=\"https://colab.research.google.com/assets/colab-badge.svg\" alt=\"Open In Colab\"/></a>"
      ]
    },
    {
      "cell_type": "markdown",
      "source": [
        " # **Python Output**"
      ],
      "metadata": {
        "id": "rLgznUwHjgNN"
      }
    },
    {
      "cell_type": "code",
      "execution_count": null,
      "metadata": {
        "colab": {
          "base_uri": "https://localhost:8080/"
        },
        "id": "S6_XF96hjBVh",
        "outputId": "a1bf9927-b0bf-4ac8-86ec-6e981662c0d8"
      },
      "outputs": [
        {
          "output_type": "stream",
          "name": "stdout",
          "text": [
            "Hello PYTHON..\n"
          ]
        }
      ],
      "source": [
        "print(\"Hello PYTHON..\")"
      ]
    },
    {
      "cell_type": "code",
      "source": [
        "print(1,\"sameer\",True,8.0)"
      ],
      "metadata": {
        "colab": {
          "base_uri": "https://localhost:8080/"
        },
        "id": "78z0OoxljKke",
        "outputId": "1137d50e-7a4a-4257-a21d-3b4dc0d15443"
      },
      "execution_count": null,
      "outputs": [
        {
          "output_type": "stream",
          "name": "stdout",
          "text": [
            "1 sameer True 8.0\n"
          ]
        }
      ]
    },
    {
      "cell_type": "code",
      "source": [
        "print(1,\"Sameer\",True,8.0,sep='/') #space is override with /"
      ],
      "metadata": {
        "colab": {
          "base_uri": "https://localhost:8080/"
        },
        "id": "QOT3Aw8lkDEU",
        "outputId": "d9ffc24b-a841-47de-9769-c90ba442c723"
      },
      "execution_count": null,
      "outputs": [
        {
          "output_type": "stream",
          "name": "stdout",
          "text": [
            "1/Sameer/True/8.0\n"
          ]
        }
      ]
    },
    {
      "cell_type": "code",
      "source": [
        "print(\"sameer\")\n",
        "print(\"Nandyal\")"
      ],
      "metadata": {
        "colab": {
          "base_uri": "https://localhost:8080/"
        },
        "id": "zeHwVTzNkMVU",
        "outputId": "a3de043e-4884-4fb7-8abc-11415ed539bb"
      },
      "execution_count": null,
      "outputs": [
        {
          "output_type": "stream",
          "name": "stdout",
          "text": [
            "sameer\n",
            "Nandyal\n"
          ]
        }
      ]
    },
    {
      "cell_type": "code",
      "source": [
        "print(\"sameer\", end='-') #new line is override with the -\n",
        "print(\"Nandyal\")"
      ],
      "metadata": {
        "colab": {
          "base_uri": "https://localhost:8080/"
        },
        "id": "_d5RPOCrkUyZ",
        "outputId": "57f6a854-003a-4e5c-ca25-3a53b8b20a19"
      },
      "execution_count": null,
      "outputs": [
        {
          "output_type": "stream",
          "name": "stdout",
          "text": [
            "sameer-Nandyal\n"
          ]
        }
      ]
    },
    {
      "cell_type": "markdown",
      "source": [
        "# **Data** **Types**"
      ],
      "metadata": {
        "id": "c7zwn4lwkwAt"
      }
    },
    {
      "cell_type": "code",
      "source": [
        "#Integer\n",
        "print(23)\n",
        "\n",
        "#Decimal/Float\n",
        "print(23.28)\n",
        "\n",
        "#Boolean\n",
        "print(True,False)\n",
        "\n",
        "#Text/String\n",
        "print(\"Hello world\")\n",
        "\n",
        "#Complex Number\n",
        "print(2+6j)\n",
        "\n",
        "#List\n",
        "print([1,2,3,4,5])\n",
        "\n",
        "#Tuple\n",
        "print((1,2,3,4,5))\n",
        "\n",
        "#sets\n",
        "print({1,2,3,4,5})\n",
        "\n",
        "#Dictionary\n",
        "print({'Name':'Sameer','Place':'nandyal'})"
      ],
      "metadata": {
        "colab": {
          "base_uri": "https://localhost:8080/"
        },
        "id": "07dRHcUdk23G",
        "outputId": "0c8657f5-d1e2-422d-d62a-212d606b7a7e"
      },
      "execution_count": null,
      "outputs": [
        {
          "output_type": "stream",
          "name": "stdout",
          "text": [
            "23\n",
            "23.28\n",
            "True False\n",
            "Hello world\n",
            "(2+6j)\n",
            "[1, 2, 3, 4, 5]\n",
            "(1, 2, 3, 4, 5)\n",
            "{1, 2, 3, 4, 5}\n",
            "{'Name': 'Sameer', 'Place': 'nandyal'}\n"
          ]
        }
      ]
    },
    {
      "cell_type": "code",
      "source": [
        "#Type function\n",
        "print(type(2))\n",
        "print(type([1,2,3]))"
      ],
      "metadata": {
        "colab": {
          "base_uri": "https://localhost:8080/"
        },
        "id": "KUMdPX0hlt5a",
        "outputId": "a0c94c57-4e12-4ead-de7d-afc487d1b54a"
      },
      "execution_count": null,
      "outputs": [
        {
          "output_type": "stream",
          "name": "stdout",
          "text": [
            "<class 'int'>\n",
            "<class 'list'>\n"
          ]
        }
      ]
    },
    {
      "cell_type": "markdown",
      "source": [
        " # **Variables**"
      ],
      "metadata": {
        "id": "k_Dmp9zfmY5s"
      }
    },
    {
      "cell_type": "code",
      "source": [
        "name='Sameer'\n",
        "print(name)\n",
        "\n",
        "a=1\n",
        "b=99\n",
        "print(a+b)"
      ],
      "metadata": {
        "colab": {
          "base_uri": "https://localhost:8080/"
        },
        "id": "tGKuCO4nmWNz",
        "outputId": "7f89b992-fd34-40b3-a43d-0216bffc5d23"
      },
      "execution_count": null,
      "outputs": [
        {
          "output_type": "stream",
          "name": "stdout",
          "text": [
            "Sameer\n",
            "101\n"
          ]
        }
      ]
    },
    {
      "cell_type": "code",
      "source": [
        "#static Typing\n",
        "# int var1=99; uswd in C/C++/Java\n",
        "\n",
        "#Dynamic Typing\n",
        "var1=99;\n",
        "\n",
        "#Static Binding\n",
        "#int v1=99;\n",
        "#v1='bhai'\n",
        "#gives error in C/C++/Java\n",
        "\n",
        "#Dynamic Binding\n",
        "x=11\n",
        "print(x)\n",
        "x='Samantha'\n",
        "print(x)\n",
        "\n",
        "a,b,c=1,2,3\n",
        "print(a,b,c)\n",
        "\n",
        "d=e=f=4\n",
        "print(d,e,f)"
      ],
      "metadata": {
        "colab": {
          "base_uri": "https://localhost:8080/"
        },
        "id": "SjG6Jr8qm7F0",
        "outputId": "fbea9e39-f9fa-42a4-8ce6-f875251975f1"
      },
      "execution_count": null,
      "outputs": [
        {
          "output_type": "stream",
          "name": "stdout",
          "text": [
            "11\n",
            "Samantha\n",
            "1 2 3\n",
            "4 4 4\n"
          ]
        }
      ]
    },
    {
      "cell_type": "markdown",
      "source": [
        "# **Keywords and Idenifiers**"
      ],
      "metadata": {
        "id": "BOQEqrU7oYVI"
      }
    },
    {
      "cell_type": "code",
      "source": [
        "#Rules for Identifiers\n",
        "# 1.Cannot start with digit\n",
        "# 2.Only underscore are allowed\n",
        "# 3.Identifiers cannot be identifier\n"
      ],
      "metadata": {
        "id": "P6eWa03VmpXc"
      },
      "execution_count": null,
      "outputs": []
    },
    {
      "cell_type": "markdown",
      "source": [
        "# **User Input**"
      ],
      "metadata": {
        "id": "eudxsvJ1q1b_"
      }
    },
    {
      "cell_type": "code",
      "source": [
        "input()"
      ],
      "metadata": {
        "colab": {
          "base_uri": "https://localhost:8080/",
          "height": 53
        },
        "id": "CWCLdQp7q4jO",
        "outputId": "98cd6e32-b813-4f65-dca1-fafc03fe9640"
      },
      "execution_count": null,
      "outputs": [
        {
          "name": "stdout",
          "output_type": "stream",
          "text": [
            "sameer\n"
          ]
        },
        {
          "output_type": "execute_result",
          "data": {
            "text/plain": [
              "'sameer'"
            ],
            "application/vnd.google.colaboratory.intrinsic+json": {
              "type": "string"
            }
          },
          "metadata": {},
          "execution_count": 13
        }
      ]
    },
    {
      "cell_type": "code",
      "source": [
        "input(\"Enter your City\")"
      ],
      "metadata": {
        "colab": {
          "base_uri": "https://localhost:8080/",
          "height": 53
        },
        "id": "HViWEuXvrMbG",
        "outputId": "4480591b-5f46-463b-ad45-80e4ae39891f"
      },
      "execution_count": null,
      "outputs": [
        {
          "name": "stdout",
          "output_type": "stream",
          "text": [
            "Enter your Citynandyal\n"
          ]
        },
        {
          "output_type": "execute_result",
          "data": {
            "text/plain": [
              "'nandyal'"
            ],
            "application/vnd.google.colaboratory.intrinsic+json": {
              "type": "string"
            }
          },
          "metadata": {},
          "execution_count": 14
        }
      ]
    },
    {
      "cell_type": "code",
      "source": [
        "a=input(\"Enter number 1 \")\n",
        "b=input(\"Enter number 2 \") #Bydefault input takes string, because string is a universal format\n",
        "result=a+b\n",
        "print(\"Sum is \",result)"
      ],
      "metadata": {
        "colab": {
          "base_uri": "https://localhost:8080/"
        },
        "id": "PzUBfJRwrWOI",
        "outputId": "adfb1780-8a11-4833-b059-e3c4712b2b26"
      },
      "execution_count": null,
      "outputs": [
        {
          "output_type": "stream",
          "name": "stdout",
          "text": [
            "Enter number 1 12\n",
            "Enter number 2 122\n",
            "Sum is  12122\n"
          ]
        }
      ]
    },
    {
      "cell_type": "markdown",
      "source": [
        "# **Type Casting**"
      ],
      "metadata": {
        "id": "C_tOku3gsZOF"
      }
    },
    {
      "cell_type": "code",
      "source": [
        "#Converting one data type into another data type is called type casting\n",
        "#Two Types of converstiona are there\n",
        "# 1.Implict Type Conversion\n",
        "# 2.Explict Type Conversion"
      ],
      "metadata": {
        "id": "UnhtepBBsYy6"
      },
      "execution_count": null,
      "outputs": []
    },
    {
      "cell_type": "code",
      "source": [
        "#Implict Type Conversion\n",
        "a=2\n",
        "b=2.4\n",
        "print(type(a),type(b))\n",
        "result=a+b\n",
        "print(result,type(result))"
      ],
      "metadata": {
        "colab": {
          "base_uri": "https://localhost:8080/"
        },
        "id": "1x08-7iMs5zl",
        "outputId": "03a49771-a2c5-4f3d-8b11-e1e8209affcc"
      },
      "execution_count": null,
      "outputs": [
        {
          "output_type": "stream",
          "name": "stdout",
          "text": [
            "<class 'int'> <class 'float'>\n",
            "4.4 <class 'float'>\n"
          ]
        }
      ]
    },
    {
      "cell_type": "code",
      "source": [
        "#explict type conversion\n",
        "\n",
        "#string to int\n",
        "x=int('9')\n",
        "print(type(x))\n",
        "\n",
        "#int to string\n",
        "v1=str(9)\n",
        "v2=str(8)\n",
        "v3=v1+v2\n",
        "print(type(v1),type(v2),type(v3),v3)"
      ],
      "metadata": {
        "colab": {
          "base_uri": "https://localhost:8080/"
        },
        "id": "dPxZb_qjuNyk",
        "outputId": "85498c45-a826-42b8-de30-f3b466c8400a"
      },
      "execution_count": null,
      "outputs": [
        {
          "output_type": "stream",
          "name": "stdout",
          "text": [
            "<class 'int'>\n",
            "<class 'str'> <class 'str'> <class 'str'> 98\n"
          ]
        }
      ]
    },
    {
      "cell_type": "code",
      "source": [
        "a=input(\"Enter number 1 \")\n",
        "b=input(\"Enter number 2 \")\n",
        "result=int(a)+int(b)\n",
        "print(\"Sum is \",result)\n",
        "print(type(a),type(b),type(result))\n",
        "\n",
        "#Type converstion do not change the original data, it creates a new value of it"
      ],
      "metadata": {
        "colab": {
          "base_uri": "https://localhost:8080/"
        },
        "id": "C_YaAgrMu_99",
        "outputId": "133fee14-c25a-427a-da63-2e8377004f8d"
      },
      "execution_count": null,
      "outputs": [
        {
          "output_type": "stream",
          "name": "stdout",
          "text": [
            "Enter number 1 11\n",
            "Enter number 2 22\n",
            "Sum is  33\n",
            "<class 'str'> <class 'str'> <class 'int'>\n"
          ]
        }
      ]
    },
    {
      "cell_type": "markdown",
      "source": [
        "# **Literals**"
      ],
      "metadata": {
        "id": "vY7iqOD5wanB"
      }
    },
    {
      "cell_type": "code",
      "source": [
        "#the value that is stord in a variable is called literals\n",
        "\n",
        "#Binary Literals\n",
        "a=0b0100\n",
        "print(a)\n",
        "\n",
        "#Decimal Literals\n",
        "b=1001\n",
        "print(b)\n",
        "\n",
        "#Octal Literals\n",
        "c=0o123\n",
        "print(c)\n",
        "\n",
        "#HexaDecimal Literals\n",
        "d=0x12c\n",
        "print(d)\n",
        "\n",
        "#Float Literals\n",
        "float_1=10.8\n",
        "float_2=1.5e2 #1.5 * 10 ^ 2\n",
        "float_3=1.5e-3 #1.5 * 10 ^ -3\n",
        "print(float_1,float_2,float_3)\n",
        "\n",
        "#Complex Literals\n",
        "x=4+7j\n",
        "print(x,x.real,x.imag)\n",
        "\n",
        "#String Literals\n",
        "str1='This is Banglore'\n",
        "str2=\"Namma Banglore\"\n",
        "str3='K'\n",
        "multiline_str=\"\"\"This is multiline\n",
        "string literals\"\"\"\n",
        "unicode_str=u\"\\U0001f600\"\n",
        "raw_str=r\"raw \\n string\"\n",
        "\n",
        "print(unicode_str)"
      ],
      "metadata": {
        "colab": {
          "base_uri": "https://localhost:8080/"
        },
        "id": "yXrD4U1uwdiH",
        "outputId": "cedc7892-7c54-42d1-ce56-3aaccf27f430"
      },
      "execution_count": null,
      "outputs": [
        {
          "output_type": "stream",
          "name": "stdout",
          "text": [
            "4\n",
            "1001\n",
            "83\n",
            "300\n",
            "10.8 150.0 0.0015\n",
            "(4+7j) 4.0 7.0\n",
            "🚐\n"
          ]
        }
      ]
    },
    {
      "cell_type": "code",
      "source": [
        "a=True+1\n",
        "b=False+9\n",
        "print(a,b)"
      ],
      "metadata": {
        "colab": {
          "base_uri": "https://localhost:8080/"
        },
        "id": "SoXGYW4hy5Um",
        "outputId": "c36b7202-c524-480a-a8c3-6b341ebaad72"
      },
      "execution_count": null,
      "outputs": [
        {
          "output_type": "stream",
          "name": "stdout",
          "text": [
            "2 9\n"
          ]
        }
      ]
    },
    {
      "cell_type": "code",
      "source": [
        "#None is mainly used with the variables that we assaign them a value in future\n",
        "a=None\n",
        "print(a)\n",
        "a=99\n",
        "print(a)"
      ],
      "metadata": {
        "colab": {
          "base_uri": "https://localhost:8080/"
        },
        "id": "Q49dbKOszCri",
        "outputId": "e09cb5ce-6378-417c-c3bb-b41eac0dd5dd"
      },
      "execution_count": null,
      "outputs": [
        {
          "output_type": "stream",
          "name": "stdout",
          "text": [
            "None\n",
            "99\n"
          ]
        }
      ]
    },
    {
      "cell_type": "markdown",
      "source": [
        "# **Operators**\n"
      ],
      "metadata": {
        "id": "7R--d4pxm78Z"
      }
    },
    {
      "cell_type": "code",
      "source": [
        "#Arithmatic operators\n",
        "print(2+3)\n",
        "print(9-9)\n",
        "print(5/2)\n",
        "print(5//2)\n",
        "print(5%2)\n",
        "print(5**2)"
      ],
      "metadata": {
        "colab": {
          "base_uri": "https://localhost:8080/"
        },
        "id": "JEFS9EUgmu1m",
        "outputId": "ddc15b48-b7a5-42a0-e70d-be6e2e1c9695"
      },
      "execution_count": 2,
      "outputs": [
        {
          "output_type": "stream",
          "name": "stdout",
          "text": [
            "5\n",
            "0\n",
            "2.5\n",
            "2\n",
            "1\n",
            "25\n"
          ]
        }
      ]
    },
    {
      "cell_type": "code",
      "source": [
        "#Relational Operators\n",
        "print(4<5)\n",
        "print(4>5)\n",
        "print(4>=4)\n",
        "print(4<=4)\n",
        "print(9==9)\n",
        "print(9!=0)"
      ],
      "metadata": {
        "colab": {
          "base_uri": "https://localhost:8080/"
        },
        "id": "rGPmjBbrnYPq",
        "outputId": "4d80ecdc-5c9b-4ac5-fa8c-3f7b3dc05ec1"
      },
      "execution_count": 3,
      "outputs": [
        {
          "output_type": "stream",
          "name": "stdout",
          "text": [
            "True\n",
            "False\n",
            "True\n",
            "True\n",
            "True\n",
            "True\n"
          ]
        }
      ]
    },
    {
      "cell_type": "code",
      "source": [
        "#Logical operators\n",
        "print(1 and 0)\n",
        "print(1 or 0)\n",
        "print(0 and 0)\n",
        "print(not 1)\n",
        "print(not 0)\n"
      ],
      "metadata": {
        "colab": {
          "base_uri": "https://localhost:8080/"
        },
        "id": "_LE-UrpbnmMQ",
        "outputId": "b63301db-ec77-449a-9cb5-ff27abb65e85"
      },
      "execution_count": 4,
      "outputs": [
        {
          "output_type": "stream",
          "name": "stdout",
          "text": [
            "0\n",
            "1\n",
            "0\n",
            "False\n",
            "True\n"
          ]
        }
      ]
    },
    {
      "cell_type": "code",
      "source": [
        "#Bitwise Operators\n",
        "print(2&3)\n",
        "print(2|3)\n",
        "print(2^3)\n",
        "print(~5)\n",
        "print(4>>2)\n",
        "print(4<<2)"
      ],
      "metadata": {
        "colab": {
          "base_uri": "https://localhost:8080/"
        },
        "id": "Wi6jY-MPny1Q",
        "outputId": "1d6c9f1d-2827-4dfd-898a-8a5fff7ebd1f"
      },
      "execution_count": 6,
      "outputs": [
        {
          "output_type": "stream",
          "name": "stdout",
          "text": [
            "2\n",
            "3\n",
            "1\n",
            "-6\n",
            "1\n",
            "16\n"
          ]
        }
      ]
    },
    {
      "cell_type": "code",
      "source": [
        "#assignmanet operator\n",
        "a=2\n",
        "a+=2 #a=a+2\n",
        "print(a)"
      ],
      "metadata": {
        "id": "_ba8Xh4vo0DN"
      },
      "execution_count": null,
      "outputs": []
    },
    {
      "cell_type": "code",
      "source": [
        "#membership Operators\n",
        "#in\n",
        "print('Sameer' in 'Sameer Basha')\n",
        "print('S' in 'Sam')\n",
        "\n",
        "print(1 in [1,2,3,4,5])\n",
        "\n",
        "#not in\n",
        "print('N' not in 'Nandyal')\n",
        "print('R' not in 'Nandyal')"
      ],
      "metadata": {
        "colab": {
          "base_uri": "https://localhost:8080/"
        },
        "id": "FemSlyjIpA8t",
        "outputId": "7b9e4a95-6cc5-422e-8735-5ac7039d2913"
      },
      "execution_count": 11,
      "outputs": [
        {
          "output_type": "stream",
          "name": "stdout",
          "text": [
            "True\n",
            "True\n",
            "True\n",
            "False\n",
            "True\n"
          ]
        }
      ]
    },
    {
      "cell_type": "code",
      "source": [
        "#program - find the sum of three digit number entered by the user\n",
        "num=int(input(\"Enter 3 digit number\"))\n",
        "ones_place=num%10\n",
        "num//=10\n",
        "tens_place=num%10\n",
        "num//=10\n",
        "hundreds_place=num%10\n",
        "\n",
        "sum=ones_place+tens_place+hundreds_place\n",
        "print(sum)\n"
      ],
      "metadata": {
        "colab": {
          "base_uri": "https://localhost:8080/"
        },
        "id": "M8f1pTFkqSyZ",
        "outputId": "a6bd39ff-9d4f-4878-f33f-f45cdf615a0d"
      },
      "execution_count": 17,
      "outputs": [
        {
          "output_type": "stream",
          "name": "stdout",
          "text": [
            "Enter 3 digit number999\n",
            "27\n"
          ]
        }
      ]
    },
    {
      "cell_type": "markdown",
      "source": [
        "# **If -Else**\n"
      ],
      "metadata": {
        "id": "tLDWbOqTrqd-"
      }
    },
    {
      "cell_type": "code",
      "source": [
        "num=int(input(\"Enter Number\"))\n",
        "if(num%2==0):\n",
        "  print(\"Even Number\")\n",
        "else:\n",
        "  print(\"Odd Number\")"
      ],
      "metadata": {
        "colab": {
          "base_uri": "https://localhost:8080/"
        },
        "id": "7s5XHEHlrte6",
        "outputId": "a9214b6e-d87a-4183-aafb-9a3f5aa09a3f"
      },
      "execution_count": 19,
      "outputs": [
        {
          "output_type": "stream",
          "name": "stdout",
          "text": [
            "Enter Number11\n",
            "Odd Number\n"
          ]
        }
      ]
    },
    {
      "cell_type": "code",
      "source": [
        "original_email='sam@gmail.com'\n",
        "original_password='4369'\n",
        "\n",
        "email=input(\"Enter email\")\n",
        "password=input(\"Enter password\")\n",
        "\n",
        "if(email==original_email and password==original_password):\n",
        "  print(\"Welcome\")\n",
        "elif(email==original_email and password!=original_password):\n",
        "  print(\"password wrong enter one nore time\")\n",
        "  password=input(\"Enter password:\")\n",
        "  if(password==original_password):\n",
        "    print(\"Welcome\")\n",
        "  else:\n",
        "    print(\"U again entered wrong password\")\n",
        "else:\n",
        "  print(\"Total wrong\")"
      ],
      "metadata": {
        "colab": {
          "base_uri": "https://localhost:8080/"
        },
        "id": "q-VSQ3pts_tD",
        "outputId": "7d52dbf1-deb2-4976-b63b-e0bf80d323ab"
      },
      "execution_count": 22,
      "outputs": [
        {
          "output_type": "stream",
          "name": "stdout",
          "text": [
            "Enter emailsam@gmail.com\n",
            "Enter passwordkkkk\n",
            "password wrong enter one nore time\n",
            "Enter password:4369\n",
            "Welcome\n"
          ]
        }
      ]
    },
    {
      "cell_type": "code",
      "source": [
        "#program - Min of three nuners\n",
        "a=int(input(\"Enter 1st number\"))\n",
        "b=int(input(\"Enter 2nd number\"))\n",
        "c=int(input(\"Enter 3rd number\"))\n",
        "\n",
        "if(a<b and a<c):\n",
        "  print(a)\n",
        "elif(b<a and b<c):\n",
        "  print(b)\n",
        "else:\n",
        "  print(c)"
      ],
      "metadata": {
        "colab": {
          "base_uri": "https://localhost:8080/"
        },
        "id": "MeJRN4gBusTa",
        "outputId": "ede68ed7-4134-4a28-f500-8a338e4bf2f9"
      },
      "execution_count": 25,
      "outputs": [
        {
          "output_type": "stream",
          "name": "stdout",
          "text": [
            "Enter 1st number1\n",
            "Enter 2nd number1\n",
            "Enter 3rd number1\n",
            "1\n"
          ]
        }
      ]
    },
    {
      "cell_type": "code",
      "source": [
        "#Menu driven calculator\n",
        "fnum=int(input(\"Enter first number\"))\n",
        "snum=int(input(\"Enter second number\"))\n",
        "\n",
        "option=input(\"Enter option\")\n",
        "\n",
        "if(option=='add'):\n",
        "  print(fnum+snum)\n",
        "elif(option=='sub'):\n",
        "  print(fnum-snum)\n",
        "elif(option=='mul'):\n",
        "  print(fnum*snum)\n",
        "else:\n",
        "  print(fnum//snum)"
      ],
      "metadata": {
        "colab": {
          "base_uri": "https://localhost:8080/"
        },
        "id": "QcqfRPhCvcsC",
        "outputId": "e83c9884-5b23-4683-d0f9-0a4692b2adfb"
      },
      "execution_count": 26,
      "outputs": [
        {
          "output_type": "stream",
          "name": "stdout",
          "text": [
            "Enter first number12\n",
            "Enter second number2\n",
            "Enter optionadd\n",
            "14\n"
          ]
        }
      ]
    },
    {
      "cell_type": "markdown",
      "source": [
        "# **Modules**\n"
      ],
      "metadata": {
        "id": "yd-J0yikwX7y"
      }
    },
    {
      "cell_type": "code",
      "source": [
        "#math\n",
        "import math\n",
        "\n",
        "math.factorial(5)\n",
        "\n",
        "math.floor(3.7)"
      ],
      "metadata": {
        "colab": {
          "base_uri": "https://localhost:8080/"
        },
        "id": "nbp3piQ9wacd",
        "outputId": "9e891228-d4a6-4b11-c9bb-99e74a82da48"
      },
      "execution_count": 29,
      "outputs": [
        {
          "output_type": "execute_result",
          "data": {
            "text/plain": [
              "3"
            ]
          },
          "metadata": {},
          "execution_count": 29
        }
      ]
    },
    {
      "cell_type": "code",
      "source": [
        "#keywords\n",
        "import keyword\n",
        "print(keyword.kwlist)"
      ],
      "metadata": {
        "colab": {
          "base_uri": "https://localhost:8080/"
        },
        "id": "A8UunnBtw7Cd",
        "outputId": "536a7ce9-f170-48e6-9382-0ab1ed5b0d5f"
      },
      "execution_count": 30,
      "outputs": [
        {
          "output_type": "stream",
          "name": "stdout",
          "text": [
            "['False', 'None', 'True', 'and', 'as', 'assert', 'async', 'await', 'break', 'class', 'continue', 'def', 'del', 'elif', 'else', 'except', 'finally', 'for', 'from', 'global', 'if', 'import', 'in', 'is', 'lambda', 'nonlocal', 'not', 'or', 'pass', 'raise', 'return', 'try', 'while', 'with', 'yield']\n"
          ]
        }
      ]
    },
    {
      "cell_type": "code",
      "source": [
        "#random\n",
        "import random\n",
        "print(random.randint(1,100))"
      ],
      "metadata": {
        "colab": {
          "base_uri": "https://localhost:8080/"
        },
        "id": "riBKfaQPxC-r",
        "outputId": "f8754280-e12b-4c0a-a23f-ddb6a75f6e79"
      },
      "execution_count": 32,
      "outputs": [
        {
          "output_type": "stream",
          "name": "stdout",
          "text": [
            "95\n"
          ]
        }
      ]
    },
    {
      "cell_type": "code",
      "source": [
        "#datetime\n",
        "import datetime\n",
        "print(datetime.datetime.now())"
      ],
      "metadata": {
        "colab": {
          "base_uri": "https://localhost:8080/"
        },
        "id": "_ioXp8P_xOPs",
        "outputId": "51513ffc-1aee-4343-adba-3ec61aff175c"
      },
      "execution_count": 33,
      "outputs": [
        {
          "output_type": "stream",
          "name": "stdout",
          "text": [
            "2024-12-20 11:13:26.940352\n"
          ]
        }
      ]
    },
    {
      "cell_type": "markdown",
      "source": [
        "# **Loops in Python**"
      ],
      "metadata": {
        "id": "hi71sex9xkae"
      }
    },
    {
      "cell_type": "code",
      "source": [
        "#while loop\n",
        "n=int(input(\"Enter n\"))\n",
        "i=1\n",
        "while(i<11):\n",
        "  print(n*i)\n",
        "  i+=1"
      ],
      "metadata": {
        "colab": {
          "base_uri": "https://localhost:8080/"
        },
        "id": "MjBfDweXxm8t",
        "outputId": "cc0812a6-d2bc-480f-801b-224fb1aefef3"
      },
      "execution_count": 34,
      "outputs": [
        {
          "output_type": "stream",
          "name": "stdout",
          "text": [
            "Enter n8\n",
            "8\n",
            "16\n",
            "24\n",
            "32\n",
            "40\n",
            "48\n",
            "56\n",
            "64\n",
            "72\n",
            "80\n"
          ]
        }
      ]
    },
    {
      "cell_type": "code",
      "source": [
        "#while loop with else\n",
        "i=1\n",
        "while(i<5):\n",
        "  print(i)\n",
        "  i+=1\n",
        "else:\n",
        "  print('limit crossed')"
      ],
      "metadata": {
        "colab": {
          "base_uri": "https://localhost:8080/"
        },
        "id": "Dg7y4Ts8y8GR",
        "outputId": "60b3e888-58a3-46e3-9be0-9f52b9e87515"
      },
      "execution_count": 35,
      "outputs": [
        {
          "output_type": "stream",
          "name": "stdout",
          "text": [
            "1\n",
            "2\n",
            "3\n",
            "4\n",
            "limit crossed\n"
          ]
        }
      ]
    },
    {
      "cell_type": "code",
      "source": [
        "#guessing Game\n",
        "import random\n",
        "jackpotNumber=random.randint(1,10)\n",
        "print(\"random number is \",jackpotNumber)\n",
        "\n",
        "\n",
        "num=int(input(\"guess Number\"))\n",
        "\n",
        "while(num!=jackpotNumber):\n",
        "  print(\"U guessed wrong number\")\n",
        "  if(num>jackpotNumber):\n",
        "   num=int(input(\"Guess one more time - less number\"))\n",
        "  else:\n",
        "    num=int(input(\"Guess one more time - greater number\"))\n",
        "else:\n",
        "  print(\"U guessed correct\")\n",
        "\n"
      ],
      "metadata": {
        "colab": {
          "base_uri": "https://localhost:8080/"
        },
        "id": "g8YlNtimzb5k",
        "outputId": "6d31f856-37a3-4d3d-afbe-0395d8661d7e"
      },
      "execution_count": 38,
      "outputs": [
        {
          "output_type": "stream",
          "name": "stdout",
          "text": [
            "random number is  4\n",
            "guess Number8\n",
            "U guessed wrong number\n",
            "Guess one more time - less number5\n",
            "U guessed wrong number\n",
            "Guess one more time - less number1\n",
            "U guessed wrong number\n",
            "Guess one more time - greater number3\n",
            "U guessed wrong number\n",
            "Guess one more time - greater number4\n",
            "U guessed correct\n"
          ]
        }
      ]
    },
    {
      "cell_type": "code",
      "source": [
        "#for loop\n",
        "for i in range(1,11):\n",
        "  print(i)"
      ],
      "metadata": {
        "colab": {
          "base_uri": "https://localhost:8080/"
        },
        "id": "mHLG9HOk1dvU",
        "outputId": "0f7bedd3-76ba-4028-c4a2-c7950d75ea95"
      },
      "execution_count": 39,
      "outputs": [
        {
          "output_type": "stream",
          "name": "stdout",
          "text": [
            "1\n",
            "2\n",
            "3\n",
            "4\n",
            "5\n",
            "6\n",
            "7\n",
            "8\n",
            "9\n",
            "10\n"
          ]
        }
      ]
    },
    {
      "cell_type": "code",
      "source": [
        "for i in range(1,11,2):\n",
        "  print(i)"
      ],
      "metadata": {
        "colab": {
          "base_uri": "https://localhost:8080/"
        },
        "id": "AZ4fJfxm16tJ",
        "outputId": "80858ace-1765-415a-846f-6efef15fb7df"
      },
      "execution_count": 40,
      "outputs": [
        {
          "output_type": "stream",
          "name": "stdout",
          "text": [
            "1\n",
            "3\n",
            "5\n",
            "7\n",
            "9\n"
          ]
        }
      ]
    },
    {
      "cell_type": "code",
      "source": [
        "for i in range(10,0,-1):\n",
        "  print(i)"
      ],
      "metadata": {
        "colab": {
          "base_uri": "https://localhost:8080/"
        },
        "id": "_SlDKRnR2BDe",
        "outputId": "01a67d82-a0b1-4a98-ce36-ff58d9690a92"
      },
      "execution_count": 41,
      "outputs": [
        {
          "output_type": "stream",
          "name": "stdout",
          "text": [
            "10\n",
            "9\n",
            "8\n",
            "7\n",
            "6\n",
            "5\n",
            "4\n",
            "3\n",
            "2\n",
            "1\n"
          ]
        }
      ]
    },
    {
      "cell_type": "code",
      "source": [
        "for i in 'Delhi':\n",
        "  print(i)"
      ],
      "metadata": {
        "colab": {
          "base_uri": "https://localhost:8080/"
        },
        "id": "wrVuZLOl2QKM",
        "outputId": "ed2f23c7-2da0-4730-8974-ac4773933acb"
      },
      "execution_count": 42,
      "outputs": [
        {
          "output_type": "stream",
          "name": "stdout",
          "text": [
            "D\n",
            "e\n",
            "l\n",
            "h\n",
            "i\n"
          ]
        }
      ]
    },
    {
      "cell_type": "code",
      "source": [
        "for i in [1,2,3,4,5]:\n",
        "  print(i)"
      ],
      "metadata": {
        "colab": {
          "base_uri": "https://localhost:8080/"
        },
        "id": "d97rtf9F2b3j",
        "outputId": "72d85f34-c180-4971-f694-8db92b5850f1"
      },
      "execution_count": 43,
      "outputs": [
        {
          "output_type": "stream",
          "name": "stdout",
          "text": [
            "1\n",
            "2\n",
            "3\n",
            "4\n",
            "5\n"
          ]
        }
      ]
    },
    {
      "cell_type": "code",
      "source": [
        "# The current population of a town is 10000 the popuation of the town is incresaing at the rate of 10% per year, you have to weite a program to find out the population at the end of each of teh last 10 years\n",
        "currpop=10000\n",
        "for i in range(1,11):\n",
        "  print(currpop)\n",
        "  currpop=currpop/1.1"
      ],
      "metadata": {
        "colab": {
          "base_uri": "https://localhost:8080/"
        },
        "id": "oi2LHUem2jsb",
        "outputId": "136ea09c-2433-4783-83e8-1bbfaf8b02a3"
      },
      "execution_count": 1,
      "outputs": [
        {
          "output_type": "stream",
          "name": "stdout",
          "text": [
            "10000\n",
            "9090.90909090909\n",
            "8264.462809917353\n",
            "7513.148009015775\n",
            "6830.134553650703\n",
            "6209.213230591548\n",
            "5644.739300537771\n",
            "5131.5811823070635\n",
            "4665.07380209733\n",
            "4240.976183724845\n"
          ]
        }
      ]
    },
    {
      "cell_type": "code",
      "source": [
        "#1/1!+2/2!+..\n",
        "import math\n",
        "sum=0\n",
        "n=int(input(\"Enter n:\"))\n",
        "for i in range(1,n+1):\n",
        "  sum=sum+(i/math.factorial(i))\n",
        "print(sum)\n",
        "\n",
        "\n",
        "#Another method\n",
        "\n",
        "fact=1\n",
        "result=0\n",
        "for i in range(1,n+1):\n",
        "  fact=fact*i\n",
        "  result=result+(i/fact)\n",
        "print(result)"
      ],
      "metadata": {
        "colab": {
          "base_uri": "https://localhost:8080/"
        },
        "id": "Y6f5J6kb4ehZ",
        "outputId": "e483d297-8774-4ea7-c3ae-516c9028aca4"
      },
      "execution_count": 9,
      "outputs": [
        {
          "output_type": "stream",
          "name": "stdout",
          "text": [
            "Enter n:2\n",
            "2.0\n",
            "2.0\n"
          ]
        }
      ]
    },
    {
      "cell_type": "code",
      "source": [
        "#Nested Loops\n",
        "n=int(input(\"Enter n:\"))\n",
        "for i in range(1,n+1):\n",
        "  for j in range(1,i+1):\n",
        "    print(\"*\",end=' ')\n",
        "  print(end='\\n')"
      ],
      "metadata": {
        "colab": {
          "base_uri": "https://localhost:8080/"
        },
        "id": "XjlQ5A_L61l1",
        "outputId": "c0c83c53-e0a8-42e5-bcb4-ab859fa82b8b"
      },
      "execution_count": 11,
      "outputs": [
        {
          "output_type": "stream",
          "name": "stdout",
          "text": [
            "Enter n:3\n",
            "* \n",
            "* * \n",
            "* * * \n"
          ]
        }
      ]
    }
  ]
}