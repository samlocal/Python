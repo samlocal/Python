{
  "nbformat": 4,
  "nbformat_minor": 0,
  "metadata": {
    "colab": {
      "provenance": [],
      "authorship_tag": "ABX9TyOKihORr0nbwfxLCZVgNpJD",
      "include_colab_link": true
    },
    "kernelspec": {
      "name": "python3",
      "display_name": "Python 3"
    },
    "language_info": {
      "name": "python"
    }
  },
  "cells": [
    {
      "cell_type": "markdown",
      "metadata": {
        "id": "view-in-github",
        "colab_type": "text"
      },
      "source": [
        "<a href=\"https://colab.research.google.com/github/samlocal/Python/blob/main/PythonStrings.ipynb\" target=\"_parent\"><img src=\"https://colab.research.google.com/assets/colab-badge.svg\" alt=\"Open In Colab\"/></a>"
      ]
    },
    {
      "cell_type": "markdown",
      "source": [
        "# **Strings**"
      ],
      "metadata": {
        "id": "nibyVpS-2CZ-"
      }
    },
    {
      "cell_type": "code",
      "execution_count": 2,
      "metadata": {
        "colab": {
          "base_uri": "https://localhost:8080/"
        },
        "id": "UYs4ysfFydG6",
        "outputId": "938f4ecd-2928-4619-e2b4-f2368e4e343b"
      },
      "outputs": [
        {
          "output_type": "stream",
          "name": "stdout",
          "text": [
            "it`s raining\n",
            "hello\n"
          ]
        }
      ],
      "source": [
        "# In python speciafically , strings are a sequence of unicode characters\n",
        "\n",
        "#Create strings\n",
        "s='sameer'\n",
        "s=\"sameer\"\n",
        "s=\"\"\"sameer\"\"\" #stroing multi line strings\n",
        "s='''sameer''' #stroing multi line strings\n",
        "\n",
        "s=\"it`s raining\"\n",
        "print(s)\n",
        "\n",
        "s=str('hello')\n",
        "print(s)\n"
      ]
    },
    {
      "cell_type": "code",
      "source": [
        "#indexing\n",
        "s='hello world'\n",
        "print(s[0])\n",
        "print(s[9])\n",
        "\n",
        "#negative indexing\n",
        "s='hello world'\n",
        "print(s[-1])\n",
        "print(s[-9])"
      ],
      "metadata": {
        "colab": {
          "base_uri": "https://localhost:8080/"
        },
        "id": "KEb-q8IB2-0Y",
        "outputId": "e0b354bb-92ea-4975-926a-09808c0514ca"
      },
      "execution_count": 5,
      "outputs": [
        {
          "output_type": "stream",
          "name": "stdout",
          "text": [
            "h\n",
            "l\n",
            "d\n",
            "l\n"
          ]
        }
      ]
    },
    {
      "cell_type": "code",
      "source": [
        "#slicing\n",
        "s='hello world'\n",
        "print(s[0:5])\n",
        "\n",
        "print(s[2:8])\n",
        "\n",
        "print(s[6:])\n",
        "print(s[:5])\n",
        "print(s[:])\n",
        "\n",
        "print(s[0:9:2])\n",
        "print(s[0:9:3])\n",
        "\n",
        "print(s[10:0:-1])\n",
        "print(s[::-1]) #reverse the string"
      ],
      "metadata": {
        "colab": {
          "base_uri": "https://localhost:8080/"
        },
        "id": "LyTsr0yT3Z5v",
        "outputId": "25ff8541-51c6-4f95-f9cb-c448ba63eb88"
      },
      "execution_count": 14,
      "outputs": [
        {
          "output_type": "stream",
          "name": "stdout",
          "text": [
            "hello\n",
            "llo wo\n",
            "world\n",
            "hello\n",
            "hello world\n",
            "hlowr\n",
            "hlw\n",
            "dlrow olle\n",
            "dlrow olleh\n"
          ]
        }
      ]
    },
    {
      "cell_type": "code",
      "source": [
        "s='hello world'\n",
        "print(s[-5:])\n",
        "print(s[-1:-6:-1])"
      ],
      "metadata": {
        "colab": {
          "base_uri": "https://localhost:8080/"
        },
        "id": "ptL9-kUu381i",
        "outputId": "d1fb8374-696e-42a2-c8d4-8053d0a3790a"
      },
      "execution_count": 16,
      "outputs": [
        {
          "output_type": "stream",
          "name": "stdout",
          "text": [
            "world\n",
            "dlrow\n"
          ]
        }
      ]
    },
    {
      "cell_type": "code",
      "source": [
        "#editing and Deleting in strings\n",
        "s='hello world'\n",
        "#s[0]='H' gives error-> python strings are immutable\n",
        "\n",
        "string1='Nandyal'\n",
        "del string1\n",
        "print(string1)"
      ],
      "metadata": {
        "colab": {
          "base_uri": "https://localhost:8080/",
          "height": 176
        },
        "id": "ksqaiew448Ow",
        "outputId": "0d55550a-0495-4a73-8f94-883b9bbf6b45"
      },
      "execution_count": 18,
      "outputs": [
        {
          "output_type": "error",
          "ename": "NameError",
          "evalue": "name 'string1' is not defined",
          "traceback": [
            "\u001b[0;31m---------------------------------------------------------------------------\u001b[0m",
            "\u001b[0;31mNameError\u001b[0m                                 Traceback (most recent call last)",
            "\u001b[0;32m<ipython-input-18-88bf9071e6dd>\u001b[0m in \u001b[0;36m<cell line: 7>\u001b[0;34m()\u001b[0m\n\u001b[1;32m      5\u001b[0m \u001b[0mstring1\u001b[0m\u001b[0;34m=\u001b[0m\u001b[0;34m'Nandyal'\u001b[0m\u001b[0;34m\u001b[0m\u001b[0;34m\u001b[0m\u001b[0m\n\u001b[1;32m      6\u001b[0m \u001b[0;32mdel\u001b[0m \u001b[0mstring1\u001b[0m\u001b[0;34m\u001b[0m\u001b[0;34m\u001b[0m\u001b[0m\n\u001b[0;32m----> 7\u001b[0;31m \u001b[0mprint\u001b[0m\u001b[0;34m(\u001b[0m\u001b[0mstring1\u001b[0m\u001b[0;34m)\u001b[0m\u001b[0;34m\u001b[0m\u001b[0;34m\u001b[0m\u001b[0m\n\u001b[0m",
            "\u001b[0;31mNameError\u001b[0m: name 'string1' is not defined"
          ]
        }
      ]
    },
    {
      "cell_type": "code",
      "source": [
        "#operators on strings\n",
        "#Arithmatic operators\n",
        "#Relational Operators\n",
        "#Logical operators\n",
        "#Loops on srings\n",
        "#Membershipoperators\n"
      ],
      "metadata": {
        "id": "yhcA_H5z5p1a"
      },
      "execution_count": null,
      "outputs": []
    },
    {
      "cell_type": "code",
      "source": [
        "#artthmatic operations\n",
        "print('Delhi'+'Mumbai')\n",
        "print('mul'*5)"
      ],
      "metadata": {
        "colab": {
          "base_uri": "https://localhost:8080/"
        },
        "id": "y3xVMJJF55MD",
        "outputId": "246133ce-bdef-48e2-aaef-e6518d424215"
      },
      "execution_count": 19,
      "outputs": [
        {
          "output_type": "stream",
          "name": "stdout",
          "text": [
            "DelhiMumbai\n",
            "mulmulmulmulmul\n"
          ]
        }
      ]
    },
    {
      "cell_type": "code",
      "source": [
        "#Relational operatots\n",
        "print('sam'=='SAM')\n",
        "print('sam'!='SAM')\n",
        "print('sam'<'SAM')\n",
        "print('sam'>'SAM') #see how this works"
      ],
      "metadata": {
        "id": "oDaCdMjc6F94"
      },
      "execution_count": null,
      "outputs": []
    },
    {
      "cell_type": "code",
      "source": [
        "#logical operators\n",
        "print('hello' and 'world')\n",
        "print('' and 'kk')\n",
        "print('ss' or 'kk')\n",
        "print('' or 'kk')\n",
        "print(not '')\n",
        "print(not 'kk')"
      ],
      "metadata": {
        "colab": {
          "base_uri": "https://localhost:8080/"
        },
        "id": "0rOB9tqw6jcu",
        "outputId": "01ac3cea-a7b9-4ded-c48e-c8a1247839e5"
      },
      "execution_count": 21,
      "outputs": [
        {
          "output_type": "stream",
          "name": "stdout",
          "text": [
            "world\n",
            "\n",
            "ss\n",
            "kk\n",
            "True\n",
            "False\n"
          ]
        }
      ]
    },
    {
      "cell_type": "code",
      "source": [
        "#loop on strings\n",
        "for i in 'sameer':\n",
        "  print(i)"
      ],
      "metadata": {
        "colab": {
          "base_uri": "https://localhost:8080/"
        },
        "id": "bWW_dgl06hbK",
        "outputId": "387d9a82-f5ed-4e23-b6aa-7bf48cf42b30"
      },
      "execution_count": 22,
      "outputs": [
        {
          "output_type": "stream",
          "name": "stdout",
          "text": [
            "s\n",
            "a\n",
            "m\n",
            "e\n",
            "e\n",
            "r\n"
          ]
        }
      ]
    },
    {
      "cell_type": "code",
      "source": [
        "for i in 'Nandyal':\n",
        "  print('RS')"
      ],
      "metadata": {
        "colab": {
          "base_uri": "https://localhost:8080/"
        },
        "id": "odtMLKe07aVX",
        "outputId": "dee303b6-9963-4ee7-8fa5-9e5b95629584"
      },
      "execution_count": 23,
      "outputs": [
        {
          "output_type": "stream",
          "name": "stdout",
          "text": [
            "RS\n",
            "RS\n",
            "RS\n",
            "RS\n",
            "RS\n",
            "RS\n",
            "RS\n"
          ]
        }
      ]
    },
    {
      "cell_type": "code",
      "source": [
        "#membership operators\n",
        "print('s' in 'sameer')\n",
        "print('sam' in 'sameer')\n",
        "\n",
        "print('k' not in'kasai')\n",
        "print('k' not in'asai')"
      ],
      "metadata": {
        "colab": {
          "base_uri": "https://localhost:8080/"
        },
        "id": "JAREUHek7fwa",
        "outputId": "306e32ab-c306-476f-d80d-35f3ba48704f"
      },
      "execution_count": 24,
      "outputs": [
        {
          "output_type": "stream",
          "name": "stdout",
          "text": [
            "True\n",
            "True\n",
            "False\n",
            "True\n"
          ]
        }
      ]
    },
    {
      "cell_type": "code",
      "source": [
        "#functions i python\n",
        "string='Hello Nandyal'\n",
        "print(len(string))\n",
        "print(max(string))\n",
        "print(min(string))\n",
        "print(sorted(string))\n",
        "print(sorted(string , reverse=True))"
      ],
      "metadata": {
        "colab": {
          "base_uri": "https://localhost:8080/"
        },
        "id": "ZsHDS3zY8fWv",
        "outputId": "503ceea6-ad2e-40e3-b242-10ffd1bffacb"
      },
      "execution_count": 26,
      "outputs": [
        {
          "output_type": "stream",
          "name": "stdout",
          "text": [
            "13\n",
            "y\n",
            " \n",
            "[' ', 'H', 'N', 'a', 'a', 'd', 'e', 'l', 'l', 'l', 'n', 'o', 'y']\n",
            "['y', 'o', 'n', 'l', 'l', 'l', 'e', 'd', 'a', 'a', 'N', 'H', ' ']\n"
          ]
        }
      ]
    },
    {
      "cell_type": "code",
      "source": [
        "#capitilize\n",
        "string='hello nandyal'\n",
        "print(string.capitalize())\n",
        "print(string.title())\n",
        "print(string.upper())\n",
        "print(string.lower())\n",
        "print('HellO bHAi'.swapcase())"
      ],
      "metadata": {
        "colab": {
          "base_uri": "https://localhost:8080/"
        },
        "id": "WZEBHHKa8-Kg",
        "outputId": "ffe10363-b14b-4b8a-ccdd-3f15ccd2da16"
      },
      "execution_count": 32,
      "outputs": [
        {
          "output_type": "stream",
          "name": "stdout",
          "text": [
            "Hello nandyal\n",
            "Hello Nandyal\n",
            "HELLO NANDYAL\n",
            "hello nandyal\n",
            "hELLo BhaI\n"
          ]
        }
      ]
    },
    {
      "cell_type": "code",
      "source": [
        "#count\n",
        "string='sameer'\n",
        "print(string.count('e'))\n",
        "print(string.count('sam'))\n",
        "print(string.count('k'))\n",
        "\n",
        "#find\n",
        "print(string.find('e'))\n",
        "print(string.find('sam'))\n",
        "print(string.find('k'))\n",
        "\n",
        "#index\n",
        "print(string.index('sam'))"
      ],
      "metadata": {
        "colab": {
          "base_uri": "https://localhost:8080/"
        },
        "id": "_h6LI-E7-JOB",
        "outputId": "5aa54a91-5eec-47ad-9cd1-53575ee1e0a4"
      },
      "execution_count": 36,
      "outputs": [
        {
          "output_type": "stream",
          "name": "stdout",
          "text": [
            "2\n",
            "1\n",
            "0\n",
            "3\n",
            "0\n",
            "-1\n",
            "0\n"
          ]
        }
      ]
    },
    {
      "cell_type": "code",
      "source": [
        "#ends with\n",
        "print('sameer'.endswith('eer'))\n",
        "print('sameer'.endswith('r'))\n",
        "\n",
        "#starts with\n",
        "print('sameer'.startswith('sam'))\n",
        "print('sameer'.startswith('m'))"
      ],
      "metadata": {
        "colab": {
          "base_uri": "https://localhost:8080/"
        },
        "id": "f0En0QRq-1D3",
        "outputId": "4e47eded-69a3-4365-aa2b-39349e3cab50"
      },
      "execution_count": 37,
      "outputs": [
        {
          "output_type": "stream",
          "name": "stdout",
          "text": [
            "True\n",
            "True\n",
            "True\n",
            "False\n"
          ]
        }
      ]
    },
    {
      "cell_type": "code",
      "source": [
        "#format\n",
        "name='sameer'\n",
        "place='nandyal'\n",
        "print('Hi I am {} from {}'.format(name,place))\n",
        "\n",
        "print('Hi I am {1} from {0}'.format(place,name))"
      ],
      "metadata": {
        "colab": {
          "base_uri": "https://localhost:8080/"
        },
        "id": "1pQgZ8SL_Hne",
        "outputId": "d724baac-1fd4-4dc4-f220-796512751c64"
      },
      "execution_count": 40,
      "outputs": [
        {
          "output_type": "stream",
          "name": "stdout",
          "text": [
            "Hi I am sameer from nandyal\n",
            "Hi I am sameer from nandyal\n"
          ]
        }
      ]
    },
    {
      "cell_type": "code",
      "source": [
        "#all the functions are made a new string and no change was done in the original string"
      ],
      "metadata": {
        "id": "xtiWZ7zl_6Fi"
      },
      "execution_count": null,
      "outputs": []
    },
    {
      "cell_type": "code",
      "source": [
        "#isalnum\n",
        "print('sam143'.isalnum())\n",
        "print('sam143%'.isalnum())\n",
        "\n",
        "#isalpha\n",
        "print('sam'.isalpha())\n",
        "print('sam143'.isalpha())\n",
        "\n",
        "#isdigit\n",
        "print('sam'.isdigit())\n",
        "print('143'.isdigit())\n",
        "\n",
        "#isidentifier\n",
        "print('var1'.isidentifier())\n",
        "print('1var'.isidentifier())"
      ],
      "metadata": {
        "colab": {
          "base_uri": "https://localhost:8080/"
        },
        "id": "aqYE28uxADQC",
        "outputId": "c73adc19-b8ff-43ff-c9d0-408829f1a3f8"
      },
      "execution_count": 43,
      "outputs": [
        {
          "output_type": "stream",
          "name": "stdout",
          "text": [
            "True\n",
            "False\n",
            "True\n",
            "False\n",
            "False\n",
            "True\n",
            "True\n",
            "False\n"
          ]
        }
      ]
    },
    {
      "cell_type": "code",
      "source": [
        "#split\n",
        "string='Hi My name is sameer from nandyal'\n",
        "print(string.split())\n",
        "print(string.split('i'))"
      ],
      "metadata": {
        "colab": {
          "base_uri": "https://localhost:8080/"
        },
        "id": "YS422fSyA2sq",
        "outputId": "b3cdbc59-a1b0-4afd-dc56-d6c6fff4b097"
      },
      "execution_count": 44,
      "outputs": [
        {
          "output_type": "stream",
          "name": "stdout",
          "text": [
            "['Hi', 'My', 'name', 'is', 'sameer', 'from', 'nandyal']\n",
            "['H', ' My name ', 's sameer from nandyal']\n"
          ]
        }
      ]
    },
    {
      "cell_type": "code",
      "source": [
        "#join\n",
        "print(' '.join(['Hi', 'My', 'name', 'is', 'sameer', 'from', 'nandyal']))\n",
        "print('-'.join(['Hi', 'My', 'name', 'is', 'sameer', 'from', 'nandyal']))"
      ],
      "metadata": {
        "colab": {
          "base_uri": "https://localhost:8080/"
        },
        "id": "6i-ilDxJBGiY",
        "outputId": "f2106d48-ee06-4368-8fb0-dc58aa18be0d"
      },
      "execution_count": 46,
      "outputs": [
        {
          "output_type": "stream",
          "name": "stdout",
          "text": [
            "Hi My name is sameer from nandyal\n",
            "Hi-My-name-is-sameer-from-nandyal\n"
          ]
        }
      ]
    },
    {
      "cell_type": "code",
      "source": [
        "#replace\n",
        "string='Hi My name is sameer from nandyal'\n",
        "print(string.replace('sameer','Basha'))\n",
        "print(string.replace('ramcharan','Basha')) #no change"
      ],
      "metadata": {
        "colab": {
          "base_uri": "https://localhost:8080/"
        },
        "id": "LElnGMQBBa8L",
        "outputId": "d0210b31-ecf4-4499-fd1c-6e09efa62f9f"
      },
      "execution_count": 48,
      "outputs": [
        {
          "output_type": "stream",
          "name": "stdout",
          "text": [
            "Hi My name is Basha from nandyal\n",
            "Hi My name is sameer from nandyal\n"
          ]
        }
      ]
    },
    {
      "cell_type": "code",
      "source": [
        "#strip\n",
        "print('sam       '.strip())\n",
        "print('sam******'.strip('*'))\n",
        "print('******sam******'.strip('*'))"
      ],
      "metadata": {
        "colab": {
          "base_uri": "https://localhost:8080/"
        },
        "id": "06w3yL3rB2N-",
        "outputId": "d74deb61-f6fd-4144-d0f2-803e0f71718a"
      },
      "execution_count": 51,
      "outputs": [
        {
          "output_type": "stream",
          "name": "stdout",
          "text": [
            "sam\n",
            "sam\n",
            "sam\n"
          ]
        }
      ]
    },
    {
      "cell_type": "code",
      "source": [
        "#finding length of a string without using len() function\n",
        "string1='sameer bhai'\n",
        "len=0\n",
        "for i in string1:\n",
        "  len+=1\n",
        "print(len)"
      ],
      "metadata": {
        "colab": {
          "base_uri": "https://localhost:8080/"
        },
        "id": "lKUI_QyuCrlf",
        "outputId": "a9834094-ffa9-4d57-d1d3-fcad68eb4755"
      },
      "execution_count": 52,
      "outputs": [
        {
          "output_type": "stream",
          "name": "stdout",
          "text": [
            "11\n"
          ]
        }
      ]
    },
    {
      "cell_type": "code",
      "source": [
        "#Extract usename fro email\n",
        "#eg: sameer143 from sameer143@gmail.com\n",
        "\n",
        "email='sameer143@gmail.com'\n",
        "print(email.split('@')[0])"
      ],
      "metadata": {
        "colab": {
          "base_uri": "https://localhost:8080/"
        },
        "id": "XSR2165fDKvD",
        "outputId": "74e97ec5-2416-4133-e8ee-47eececb9658"
      },
      "execution_count": 53,
      "outputs": [
        {
          "output_type": "stream",
          "name": "stdout",
          "text": [
            "sameer143\n"
          ]
        }
      ]
    },
    {
      "cell_type": "code",
      "source": [
        "#frequency of a character in string\n",
        "string1='sameeeeeeeer'\n",
        "char='e'\n",
        "freq=0\n",
        "for i in string1:\n",
        "  if(i==char):\n",
        "    freq+=1\n",
        "print(freq)"
      ],
      "metadata": {
        "colab": {
          "base_uri": "https://localhost:8080/"
        },
        "id": "S7SwnCBlDhMl",
        "outputId": "f5e52f31-61eb-4b7d-a53b-ea822af220e7"
      },
      "execution_count": 54,
      "outputs": [
        {
          "output_type": "stream",
          "name": "stdout",
          "text": [
            "8\n"
          ]
        }
      ]
    },
    {
      "cell_type": "code",
      "source": [
        "#write a program which can remove a particular charactre from string\n",
        "string1='sameer'\n",
        "newstring=''\n",
        "particularcharacter='e'\n",
        "for i in string1:\n",
        "  if(i!=particularcharacter):\n",
        "    newstring+=i\n",
        "print(newstring)"
      ],
      "metadata": {
        "colab": {
          "base_uri": "https://localhost:8080/"
        },
        "id": "YWkNqZ8dEO8X",
        "outputId": "bfcb937e-7ded-4cc6-ba96-0579260030ee"
      },
      "execution_count": 57,
      "outputs": [
        {
          "output_type": "stream",
          "name": "stdout",
          "text": [
            "samr\n"
          ]
        }
      ]
    },
    {
      "cell_type": "code",
      "source": [
        "#check for palindrome\n",
        "string='malohdlam'\n",
        "reversestring=string[::-1]\n",
        "if(string==reversestring):\n",
        "  print(\"palindrome\")\n",
        "else:\n",
        "  print(\"Not Palindrome\")"
      ],
      "metadata": {
        "colab": {
          "base_uri": "https://localhost:8080/"
        },
        "id": "V7wDescuE2YB",
        "outputId": "c2a7f1f8-82bc-4134-f8b0-4bac93d092df"
      },
      "execution_count": 60,
      "outputs": [
        {
          "output_type": "stream",
          "name": "stdout",
          "text": [
            "Not Palindrome\n"
          ]
        }
      ]
    },
    {
      "cell_type": "code",
      "source": [
        "#write a program to count the number of words in a string without split()\n",
        "string='hello bhai nenu mee model bhai model bolte'\n",
        "noofwords=0;\n",
        "for i in string:\n",
        "  if(i==' '):\n",
        "    noofwords+=1\n",
        "print(noofwords+1)"
      ],
      "metadata": {
        "colab": {
          "base_uri": "https://localhost:8080/"
        },
        "id": "SpuQUR6lFakF",
        "outputId": "97b0a2c3-4954-40c3-ab41-2ff09d7b446c"
      },
      "execution_count": 62,
      "outputs": [
        {
          "output_type": "stream",
          "name": "stdout",
          "text": [
            "8\n"
          ]
        }
      ]
    },
    {
      "cell_type": "code",
      "source": [
        "#write a program to convert a title case without using title function\n",
        "string='sameer bhai from nandyal'\n",
        "newstring=''\n",
        "for i in string.split(' '):\n",
        "  newstring+=i.capitalize()\n",
        "print(newstring)\n",
        "\n",
        ""
      ],
      "metadata": {
        "colab": {
          "base_uri": "https://localhost:8080/"
        },
        "id": "Mi63Ul9qF_x_",
        "outputId": "4cb1a97f-e9d7-40e7-c851-54a8f1a54394"
      },
      "execution_count": 67,
      "outputs": [
        {
          "output_type": "stream",
          "name": "stdout",
          "text": [
            "SameerBhaiFromNandyal\n"
          ]
        }
      ]
    },
    {
      "cell_type": "code",
      "source": [
        "#write a program that can conert an integer to string\n",
        "n=int(input(\"Enter number\"))\n",
        "\n",
        "digits='0123456789'\n",
        "\n",
        "integerinstring=''\n",
        "while n!=0:\n",
        "  lastDigit=n%10\n",
        "  integerinstring+=digits[lastDigit]\n",
        "  n=n//10\n",
        "print(integerinstring[::-1])\n",
        "print(type(integerinstring))\n"
      ],
      "metadata": {
        "colab": {
          "base_uri": "https://localhost:8080/"
        },
        "id": "9FWLFziDIsll",
        "outputId": "07a47e35-be69-4afd-fbc0-9a691eadfb74"
      },
      "execution_count": 71,
      "outputs": [
        {
          "output_type": "stream",
          "name": "stdout",
          "text": [
            "Enter number66689\n",
            "66689\n",
            "<class 'str'>\n"
          ]
        }
      ]
    }
  ]
}