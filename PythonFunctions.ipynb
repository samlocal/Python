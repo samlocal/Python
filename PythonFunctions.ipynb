{
  "nbformat": 4,
  "nbformat_minor": 0,
  "metadata": {
    "colab": {
      "provenance": [],
      "authorship_tag": "ABX9TyMnX49IyO/GcGF5ysqwNPw0",
      "include_colab_link": true
    },
    "kernelspec": {
      "name": "python3",
      "display_name": "Python 3"
    },
    "language_info": {
      "name": "python"
    }
  },
  "cells": [
    {
      "cell_type": "markdown",
      "metadata": {
        "id": "view-in-github",
        "colab_type": "text"
      },
      "source": [
        "<a href=\"https://colab.research.google.com/github/samlocal/Python/blob/main/PythonFunctions.ipynb\" target=\"_parent\"><img src=\"https://colab.research.google.com/assets/colab-badge.svg\" alt=\"Open In Colab\"/></a>"
      ]
    },
    {
      "cell_type": "markdown",
      "source": [
        "### Functions"
      ],
      "metadata": {
        "id": "nlK9jRfZWZFM"
      }
    },
    {
      "cell_type": "code",
      "execution_count": 9,
      "metadata": {
        "id": "LPjNtxV-WWa-",
        "colab": {
          "base_uri": "https://localhost:8080/"
        },
        "outputId": "ce4e394b-5243-411c-d5a4-99badb53b996"
      },
      "outputs": [
        {
          "output_type": "stream",
          "name": "stdout",
          "text": [
            "True\n",
            "Error in arguments\n",
            "1  ->  False\n",
            "2  ->  True\n",
            "3  ->  False\n",
            "4  ->  True\n",
            "5  ->  False\n",
            "6  ->  True\n",
            "7  ->  False\n",
            "8  ->  True\n",
            "9  ->  False\n",
            "10  ->  True\n"
          ]
        }
      ],
      "source": [
        "#Lets create a function (with docstring)\n",
        "def is_even(n): #here n is parameter\n",
        "  \"\"\"\n",
        "  This Function returns if a given number is odd or even\n",
        "  \"\"\"\n",
        "  if(type(n)!=int):\n",
        "    return \"Error in arguments\"\n",
        "  result=n%2==0\n",
        "  return result\n",
        "\n",
        "#Function Calling\n",
        "print(is_even(2)) #here 2 is argument\n",
        "\n",
        "print(is_even('sam'))\n",
        "\n",
        "\n",
        "for i in range(1,11):\n",
        "  print(i,' -> ',is_even(i))"
      ]
    },
    {
      "cell_type": "code",
      "source": [
        "#Types of Arguments\n",
        "#1.Default Agrument\n",
        "\n",
        "def power(a=1,b=1):\n",
        "  return a**b\n",
        "\n",
        "print(power())\n",
        "print(power(2,3))\n",
        "print(power(2))"
      ],
      "metadata": {
        "colab": {
          "base_uri": "https://localhost:8080/"
        },
        "id": "OnLJCsdoU5Ac",
        "outputId": "5ec83d6c-7da8-43c1-fc94-02cd4d0d4e59"
      },
      "execution_count": 10,
      "outputs": [
        {
          "output_type": "stream",
          "name": "stdout",
          "text": [
            "1\n",
            "8\n",
            "2\n"
          ]
        }
      ]
    },
    {
      "cell_type": "code",
      "source": [
        "#2.Positional Argument\n",
        "print(power(9,9))"
      ],
      "metadata": {
        "id": "vwc0a43FXUnc"
      },
      "execution_count": null,
      "outputs": []
    },
    {
      "cell_type": "code",
      "source": [
        "#3.Keyword Argument\n",
        "print(power(a=2,b=3))\n",
        "print(power(b=2,a=3))"
      ],
      "metadata": {
        "colab": {
          "base_uri": "https://localhost:8080/"
        },
        "id": "yPB6UX_7Xp2u",
        "outputId": "f1335982-269e-40c4-f782-0280d2679672"
      },
      "execution_count": 11,
      "outputs": [
        {
          "output_type": "stream",
          "name": "stdout",
          "text": [
            "8\n",
            "9\n"
          ]
        }
      ]
    },
    {
      "cell_type": "markdown",
      "source": [
        "# *args and **kwargs\n",
        "# *args and **kwargs are specified python keyword hat are used to pass the variable length of arguments to a function\n"
      ],
      "metadata": {
        "id": "MLHS9EFVYjG4"
      }
    },
    {
      "cell_type": "code",
      "source": [
        "# *args\n",
        "# allows us to pass a variable number of non-keyword argumenrs to a function\n",
        "\n",
        "def multiply(*args):\n",
        "  product=1\n",
        "  for i in args:\n",
        "    product*=i\n",
        "  return product\n",
        "\n",
        "#calling function with one agrumnet\n",
        "print(multiply(2))\n",
        "#2 arguments\n",
        "print(multiply(2,1))\n",
        "#3 arguments\n",
        "print(multiply(2,99,8))\n",
        "#n arguments\n",
        "print(multiply(2,8,6,66,11,9,1))\n",
        "\n",
        "#python store args in tuple\n",
        "def multiply(*args):\n",
        "  print(args)\n",
        "\n",
        "multiply(1,2,3,4,5,6,7,8,9,44)"
      ],
      "metadata": {
        "colab": {
          "base_uri": "https://localhost:8080/"
        },
        "id": "n3TngpNBYj7d",
        "outputId": "3a241ff8-8757-4b60-fab7-796c239cc74d"
      },
      "execution_count": 15,
      "outputs": [
        {
          "output_type": "stream",
          "name": "stdout",
          "text": [
            "2\n",
            "2\n",
            "1584\n",
            "627264\n",
            "(1, 2, 3, 4, 5, 6, 7, 8, 9, 44)\n"
          ]
        }
      ]
    },
    {
      "cell_type": "code",
      "source": [
        "# **kwargs\n",
        "# **kwargs allows us to pass any number of keyword arguments\n",
        "# keyword arguments mean that they contain a key-value pair, like a string dictionary\n",
        "\n",
        "def display(**kwargs):\n",
        "  for (key,value) in kwargs.items():\n",
        "    print(key,' -> ',value)\n",
        "\n",
        "display(india='Delhi',srilanka='colombo',pakistan='islamabad')\n"
      ],
      "metadata": {
        "colab": {
          "base_uri": "https://localhost:8080/"
        },
        "id": "T5abO1vgXp8H",
        "outputId": "6fa06540-0f06-465f-9dec-2985f1fd7098"
      },
      "execution_count": 24,
      "outputs": [
        {
          "output_type": "stream",
          "name": "stdout",
          "text": [
            "india  ->  Delhi\n",
            "srilanka  ->  colombo\n",
            "pakistan  ->  islamabad\n"
          ]
        }
      ]
    },
    {
      "cell_type": "code",
      "source": [
        "#points to remenber\n",
        "# order of the arguments matters (normal->*args->**kwargs)\n",
        "# The word 'args' and 'kwargs' are only a conevntion , u can use any name of ur choice\n",
        "\n",
        "def all_args(normal_parameter1,normal_parameter2, *args,**kwargs):\n",
        "  print(\"Normal Arguments\")\n",
        "  print(normal_parameter1,normal_parameter2)\n",
        "\n",
        "  print(\"args\")\n",
        "  for i in args:\n",
        "    print(i)\n",
        "\n",
        "  print(\"kwargs\")\n",
        "  for (key,value) in kwargs.items():\n",
        "    print(key,' -> ',value)\n",
        "\n",
        "all_args(11,22,-1,-2,-3,-4,5,-6,-7,name='sam',place='Nandyal')"
      ],
      "metadata": {
        "colab": {
          "base_uri": "https://localhost:8080/"
        },
        "id": "TVbKG5N6fCoA",
        "outputId": "56c494cc-0ee3-4416-a35b-0f714aa228cd"
      },
      "execution_count": 26,
      "outputs": [
        {
          "output_type": "stream",
          "name": "stdout",
          "text": [
            "Normal Arguments\n",
            "11 22\n",
            "args\n",
            "-1\n",
            "-2\n",
            "-3\n",
            "-4\n",
            "5\n",
            "-6\n",
            "-7\n",
            "kwargs\n",
            "name  ->  sam\n",
            "place  ->  Nandyal\n"
          ]
        }
      ]
    },
    {
      "cell_type": "code",
      "source": [
        "#Accessing the documentation of any function\n",
        "print(print.__doc__)"
      ],
      "metadata": {
        "colab": {
          "base_uri": "https://localhost:8080/"
        },
        "id": "qJUXGvqUYj-7",
        "outputId": "6b0e56a5-7538-4f1b-e5ab-215095724747"
      },
      "execution_count": 16,
      "outputs": [
        {
          "output_type": "stream",
          "name": "stdout",
          "text": [
            "print(value, ..., sep=' ', end='\\n', file=sys.stdout, flush=False)\n",
            "\n",
            "Prints the values to a stream, or to sys.stdout by default.\n",
            "Optional keyword arguments:\n",
            "file:  a file-like object (stream); defaults to the current sys.stdout.\n",
            "sep:   string inserted between values, default a space.\n",
            "end:   string appended after the last value, default a newline.\n",
            "flush: whether to forcibly flush the stream.\n"
          ]
        }
      ]
    },
    {
      "cell_type": "code",
      "source": [
        "#How functions are executed in memory\n",
        "#learn"
      ],
      "metadata": {
        "id": "3QIY3VZyXp-2"
      },
      "execution_count": null,
      "outputs": []
    },
    {
      "cell_type": "code",
      "source": [
        "#witout return statement\n",
        "L=[1,2,3]\n",
        "print(L.append(77)) #append return the None"
      ],
      "metadata": {
        "colab": {
          "base_uri": "https://localhost:8080/"
        },
        "id": "WET7-VwdXqA2",
        "outputId": "bd89bca8-1783-48cc-eab9-3fb06228d281"
      },
      "execution_count": 27,
      "outputs": [
        {
          "output_type": "stream",
          "name": "stdout",
          "text": [
            "None\n"
          ]
        }
      ]
    },
    {
      "cell_type": "code",
      "source": [
        "#variable scope\n",
        "#learn"
      ],
      "metadata": {
        "id": "Goz_jswYXqDr"
      },
      "execution_count": null,
      "outputs": []
    },
    {
      "cell_type": "code",
      "source": [
        "#Nested functions\n",
        "def f():\n",
        "  def g():\n",
        "    print(\"Inside g1\")\n",
        "  g()\n",
        "  print(\"Inside g\")\n",
        "\n",
        "f()"
      ],
      "metadata": {
        "colab": {
          "base_uri": "https://localhost:8080/"
        },
        "id": "TaojiKLeXqFu",
        "outputId": "ec8bba1d-81db-4250-e079-cefcdcba2e45"
      },
      "execution_count": 1,
      "outputs": [
        {
          "output_type": "stream",
          "name": "stdout",
          "text": [
            "Inside g1\n",
            "Inside g\n"
          ]
        }
      ]
    },
    {
      "cell_type": "code",
      "source": [
        "#practise questions based on nested functions using global and local variables"
      ],
      "metadata": {
        "id": "mOzUBaqlXqH5"
      },
      "execution_count": null,
      "outputs": []
    },
    {
      "cell_type": "code",
      "source": [
        "# Functions are 1st class citizens\n",
        "\n",
        "def square(num):\n",
        "  return num*num\n",
        "\n",
        "print(type(square))\n",
        "print(id(square))"
      ],
      "metadata": {
        "colab": {
          "base_uri": "https://localhost:8080/"
        },
        "id": "rj3tVILYXqLW",
        "outputId": "d68a0d9e-7478-4009-dd46-1134002a3d85"
      },
      "execution_count": 15,
      "outputs": [
        {
          "output_type": "stream",
          "name": "stdout",
          "text": [
            "<class 'function'>\n",
            "139157389923024\n"
          ]
        }
      ]
    },
    {
      "cell_type": "code",
      "source": [
        "#reassaign\n",
        "\n",
        "x=square\n",
        "print(id(x))\n",
        "\n",
        "print(x(8))"
      ],
      "metadata": {
        "colab": {
          "base_uri": "https://localhost:8080/"
        },
        "id": "1q9LOMpcmFLm",
        "outputId": "6a12d025-bbe8-4e13-fdd1-80396fd5f297"
      },
      "execution_count": 16,
      "outputs": [
        {
          "output_type": "stream",
          "name": "stdout",
          "text": [
            "139157389923024\n",
            "64\n"
          ]
        }
      ]
    },
    {
      "cell_type": "code",
      "source": [
        "#deleting a function\n",
        "# del square\n",
        "# print(square(8))\n",
        "# print(x(8))"
      ],
      "metadata": {
        "colab": {
          "base_uri": "https://localhost:8080/"
        },
        "id": "3rysFtuMmUq_",
        "outputId": "3551025a-b22b-44d8-d49c-bb8279697905"
      },
      "execution_count": 14,
      "outputs": [
        {
          "output_type": "stream",
          "name": "stdout",
          "text": [
            "64\n"
          ]
        }
      ]
    },
    {
      "cell_type": "code",
      "source": [
        "#storing\n",
        "L=[1,2,3,4,square]\n",
        "print(L[-1](5))"
      ],
      "metadata": {
        "colab": {
          "base_uri": "https://localhost:8080/"
        },
        "id": "qXw7uJSImiKe",
        "outputId": "6195620a-0814-40d5-8eca-08d171ab4dd9"
      },
      "execution_count": 17,
      "outputs": [
        {
          "output_type": "stream",
          "name": "stdout",
          "text": [
            "25\n"
          ]
        }
      ]
    },
    {
      "cell_type": "code",
      "source": [
        "#returning a function\n",
        "def x():\n",
        "  return 3\n",
        "\n",
        "def y():\n",
        "  return x\n",
        "\n",
        "y()()\n",
        "\n"
      ],
      "metadata": {
        "colab": {
          "base_uri": "https://localhost:8080/"
        },
        "id": "qygK3J9CnKbm",
        "outputId": "b8f33e25-9c31-4040-a198-376c5487a069"
      },
      "execution_count": 21,
      "outputs": [
        {
          "output_type": "execute_result",
          "data": {
            "text/plain": [
              "3"
            ]
          },
          "metadata": {},
          "execution_count": 21
        }
      ]
    },
    {
      "cell_type": "code",
      "source": [
        "def f():\n",
        "  def x(a,b):\n",
        "    return a+b\n",
        "  return x\n",
        "\n",
        "f()(2,3)"
      ],
      "metadata": {
        "colab": {
          "base_uri": "https://localhost:8080/"
        },
        "id": "aCIAPjUEnbEu",
        "outputId": "883a3aa0-57ee-4e4d-84fe-bf52c4630c79"
      },
      "execution_count": 22,
      "outputs": [
        {
          "output_type": "execute_result",
          "data": {
            "text/plain": [
              "5"
            ]
          },
          "metadata": {},
          "execution_count": 22
        }
      ]
    },
    {
      "cell_type": "code",
      "source": [
        "#function as argement\n",
        "def fun_a():\n",
        "  print(\"Inside fun_a\")\n",
        "\n",
        "def fun_b(z):\n",
        "  print(\"Inside fun_b\")\n",
        "  return z()\n",
        "\n",
        "fun_b(fun_a)\n"
      ],
      "metadata": {
        "colab": {
          "base_uri": "https://localhost:8080/"
        },
        "id": "5eMfet-Wn1P3",
        "outputId": "b13fb47a-1e04-4cb6-e2b6-3927d1cfa23b"
      },
      "execution_count": 26,
      "outputs": [
        {
          "output_type": "stream",
          "name": "stdout",
          "text": [
            "Inside fun_b\n",
            "Inside fun_a\n"
          ]
        }
      ]
    },
    {
      "cell_type": "code",
      "source": [
        "#Benefits of using a functions\n",
        " #code modularuty\n",
        " #code reusability\n",
        " #code reusability\n",
        "\n",
        ""
      ],
      "metadata": {
        "id": "xJM_Bw1Wo1c9"
      },
      "execution_count": null,
      "outputs": []
    },
    {
      "cell_type": "code",
      "source": [
        "#Lambda Function\n",
        "\n",
        "# A Lambda function is a small anonymous function\n",
        "\n",
        "# A Lambda function can take any number of arguments , but can only have one expression"
      ],
      "metadata": {
        "id": "8LQonug6qey2"
      },
      "execution_count": null,
      "outputs": []
    },
    {
      "cell_type": "code",
      "source": [
        "x= lambda i:i*i\n",
        "\n",
        "print(x(9))"
      ],
      "metadata": {
        "colab": {
          "base_uri": "https://localhost:8080/"
        },
        "id": "0rGvEMUaqe1l",
        "outputId": "2ffb9d02-dbaf-4c3f-b796-f2ac3d8855dd"
      },
      "execution_count": 28,
      "outputs": [
        {
          "output_type": "stream",
          "name": "stdout",
          "text": [
            "81\n"
          ]
        }
      ]
    },
    {
      "cell_type": "code",
      "source": [
        "sum_of_2= lambda a,b : a+b\n",
        "\n",
        "sum_of_2(9,7)"
      ],
      "metadata": {
        "colab": {
          "base_uri": "https://localhost:8080/"
        },
        "id": "n0r70as7qe4F",
        "outputId": "d437c1d5-7fec-4581-d4e7-1f2b1c03a25a"
      },
      "execution_count": 29,
      "outputs": [
        {
          "output_type": "execute_result",
          "data": {
            "text/plain": [
              "16"
            ]
          },
          "metadata": {},
          "execution_count": 29
        }
      ]
    },
    {
      "cell_type": "code",
      "source": [
        "#Difference b/w normal and lambda function\n",
        "\n",
        "# no name\n",
        "# lambda has no return value\n",
        "# lambda written in one line\n",
        "# not reusable"
      ],
      "metadata": {
        "id": "DAARMOtEqe6t"
      },
      "execution_count": null,
      "outputs": []
    },
    {
      "cell_type": "code",
      "source": [
        "# check if a string has 'a'\n",
        "has_a=lambda string: 'a' in string\n",
        "\n",
        "has_a('sam')"
      ],
      "metadata": {
        "colab": {
          "base_uri": "https://localhost:8080/"
        },
        "id": "7igNJ2Vmqe-B",
        "outputId": "f0cb17af-8323-41b7-9ff2-08adf4f59bd4"
      },
      "execution_count": 30,
      "outputs": [
        {
          "output_type": "execute_result",
          "data": {
            "text/plain": [
              "True"
            ]
          },
          "metadata": {},
          "execution_count": 30
        }
      ]
    },
    {
      "cell_type": "code",
      "source": [
        "#odd or even\n",
        "odd_or_even = lambda n: n%2==0\n",
        "\n",
        "print(odd_or_even(1))\n",
        "print(odd_or_even(88))\n",
        "\n",
        "odd_or_even = lambda n:'even' if(n%2==0) else 'odd'\n",
        "print(odd_or_even(1))\n",
        "print(odd_or_even(88))"
      ],
      "metadata": {
        "colab": {
          "base_uri": "https://localhost:8080/"
        },
        "id": "jT-SuVLcrrrk",
        "outputId": "9116440e-dba1-4cb8-d1e3-7edcb5fa9137"
      },
      "execution_count": 32,
      "outputs": [
        {
          "output_type": "stream",
          "name": "stdout",
          "text": [
            "False\n",
            "True\n",
            "odd\n",
            "even\n"
          ]
        }
      ]
    },
    {
      "cell_type": "code",
      "source": [
        "# lambda functions are used with Heigher Order Function\n",
        "\n",
        "def square(n):\n",
        "  return n*n\n",
        "\n",
        "def transform(fun,List):\n",
        "  output=[]\n",
        "  for i in List:\n",
        "    output.append(fun(i))\n",
        "  print(output)\n",
        "\n",
        "transform(square,[1,2,3])\n",
        "\n",
        "\n",
        "#using lambda function\n",
        "transform(lambda x:x*x, [1,2,3])"
      ],
      "metadata": {
        "colab": {
          "base_uri": "https://localhost:8080/"
        },
        "id": "9qdM1hbdr9dU",
        "outputId": "77c0182f-57ae-4b27-b8d7-b309b559ce44"
      },
      "execution_count": 36,
      "outputs": [
        {
          "output_type": "stream",
          "name": "stdout",
          "text": [
            "[1, 4, 9]\n",
            "[1, 4, 9]\n"
          ]
        }
      ]
    },
    {
      "cell_type": "code",
      "source": [
        "#Map\n",
        "\n",
        "#square the list of a list\n",
        "list(map(lambda x:x*x,[1,2,3,4,5]))"
      ],
      "metadata": {
        "colab": {
          "base_uri": "https://localhost:8080/"
        },
        "id": "jCIwZLIys3dv",
        "outputId": "f7a88aa7-0f93-4d98-cda6-9274aaf7aa01"
      },
      "execution_count": 37,
      "outputs": [
        {
          "output_type": "execute_result",
          "data": {
            "text/plain": [
              "[1, 4, 9, 16, 25]"
            ]
          },
          "metadata": {},
          "execution_count": 37
        }
      ]
    },
    {
      "cell_type": "code",
      "source": [
        "#odd/even labelling of list items\n",
        "L=[1,2,3,4,5,6,7,8,9]\n",
        "list(map(lambda x: 'even' if x%2==0 else 'odd' , L))"
      ],
      "metadata": {
        "colab": {
          "base_uri": "https://localhost:8080/"
        },
        "id": "4bWhr4JvtnJb",
        "outputId": "22fc86d8-1f62-4fa4-ac49-09ad5363540f"
      },
      "execution_count": 38,
      "outputs": [
        {
          "output_type": "execute_result",
          "data": {
            "text/plain": [
              "['odd', 'even', 'odd', 'even', 'odd', 'even', 'odd', 'even', 'odd']"
            ]
          },
          "metadata": {},
          "execution_count": 38
        }
      ]
    },
    {
      "cell_type": "code",
      "source": [
        "#fetch names from a list of dict\n",
        "users=[\n",
        "    {\n",
        "        'name':'Sam',\n",
        "        'place':'Nandyal',\n",
        "        'gender':'Male'\n",
        "    },\n",
        "    {\n",
        "        'name':'Bahubali',\n",
        "        'place':'Nandyal',\n",
        "        'gender':'FeMale'\n",
        "    },\n",
        "    {\n",
        "        'name':'Katappa',\n",
        "        'place':'Nandyal',\n",
        "        'gender':'Male'\n",
        "    }\n",
        "]\n",
        "\n",
        "list(map(lambda x : x['name'],users))"
      ],
      "metadata": {
        "colab": {
          "base_uri": "https://localhost:8080/"
        },
        "id": "rlpEY6pEtnMJ",
        "outputId": "2a12057b-3a6b-4f47-8104-0928c4fb5e76"
      },
      "execution_count": 40,
      "outputs": [
        {
          "output_type": "execute_result",
          "data": {
            "text/plain": [
              "['Sam', 'Bahubali', 'Katappa']"
            ]
          },
          "metadata": {},
          "execution_count": 40
        }
      ]
    },
    {
      "cell_type": "code",
      "source": [
        "#filter\n",
        "\n",
        "#number greater tha 5\n",
        "list(filter(lambda x:x>5 , [5,7,3,9,1,99,11,55,0,-1]))\n",
        "\n",
        "#same thing using map\n",
        "# list(map(lambda x: x if x>5 else return , [5,7,3,9,1,99,11,55,0,-1])) see this"
      ],
      "metadata": {
        "colab": {
          "base_uri": "https://localhost:8080/",
          "height": 106
        },
        "id": "vEZn8oHetnPF",
        "outputId": "dbc3efec-3fe2-4fe4-c103-72a2791e8cf4"
      },
      "execution_count": 44,
      "outputs": [
        {
          "output_type": "error",
          "ename": "SyntaxError",
          "evalue": "invalid syntax (<ipython-input-44-36cb52bea0ae>, line 7)",
          "traceback": [
            "\u001b[0;36m  File \u001b[0;32m\"<ipython-input-44-36cb52bea0ae>\"\u001b[0;36m, line \u001b[0;32m7\u001b[0m\n\u001b[0;31m    list(map(lambda x: x if x>5 else return , [5,7,3,9,1,99,11,55,0,-1]))\u001b[0m\n\u001b[0m                                     ^\u001b[0m\n\u001b[0;31mSyntaxError\u001b[0m\u001b[0;31m:\u001b[0m invalid syntax\n"
          ]
        }
      ]
    },
    {
      "cell_type": "code",
      "source": [
        "# fetch fruits starting with 'a'\n",
        "\n",
        "list(filter(lambda x : x.startswith('a') , ['apple','anas','arati','mango']))"
      ],
      "metadata": {
        "colab": {
          "base_uri": "https://localhost:8080/"
        },
        "id": "3P2axeDUtnR5",
        "outputId": "b62149bd-46e4-49fe-9531-6fc6d99db30a"
      },
      "execution_count": 45,
      "outputs": [
        {
          "output_type": "execute_result",
          "data": {
            "text/plain": [
              "['apple', 'anas', 'arati']"
            ]
          },
          "metadata": {},
          "execution_count": 45
        }
      ]
    },
    {
      "cell_type": "code",
      "source": [
        "#reduce\n",
        "#sum of all items\n",
        "\n",
        "import functools\n",
        "functools.reduce(lambda x,y:x+y , [1,2,3,4,5])"
      ],
      "metadata": {
        "colab": {
          "base_uri": "https://localhost:8080/"
        },
        "id": "40eI07igtnUX",
        "outputId": "9df691f9-6cd3-4967-8de4-eed425779953"
      },
      "execution_count": 46,
      "outputs": [
        {
          "output_type": "execute_result",
          "data": {
            "text/plain": [
              "15"
            ]
          },
          "metadata": {},
          "execution_count": 46
        }
      ]
    },
    {
      "cell_type": "code",
      "source": [
        "#find min\n",
        "functools.reduce(lambda x,y: x if(x<y) else y , [1,2,3,4,5,-1])"
      ],
      "metadata": {
        "colab": {
          "base_uri": "https://localhost:8080/"
        },
        "id": "9v0y0LJxtnXl",
        "outputId": "47b6771f-9664-4972-c79e-b6f17d381f36"
      },
      "execution_count": 48,
      "outputs": [
        {
          "output_type": "execute_result",
          "data": {
            "text/plain": [
              "-1"
            ]
          },
          "metadata": {},
          "execution_count": 48
        }
      ]
    },
    {
      "cell_type": "code",
      "source": [],
      "metadata": {
        "id": "4xnYIlaztnbe"
      },
      "execution_count": null,
      "outputs": []
    }
  ]
}